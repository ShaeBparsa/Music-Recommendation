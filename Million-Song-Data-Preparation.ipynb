{
 "cells": [
  {
   "cell_type": "markdown",
   "id": "b2912bd1",
   "metadata": {},
   "source": [
    "                                    Music Recommendation System"
   ]
  },
  {
   "cell_type": "markdown",
   "id": "c0c8b9af",
   "metadata": {},
   "source": [
    "### Preparing of Million Song Dataset\n",
    "\n",
    "In this notebook, we perform data cleaning and preprocessing of the Million Song Dataset. The dataset contains a vast collection of audio features, metadata, and other information about songs. The cleaning process includes handling missing values, standardizing formats, and filtering out irrelevant data to ensure the dataset is ready for subsequent analysis and recommendation modeling.\n",
    "\n",
    "The MillionSongDataset can be accessed in its entirety through (http://millionsongdataset.com/pages/getting-dataset/).\n",
    "    \n",
    "\n",
    "\n",
    "#### Packages: "
   ]
  },
  {
   "cell_type": "code",
   "execution_count": 109,
   "id": "11cf7ed4",
   "metadata": {},
   "outputs": [],
   "source": [
    "import tables\n",
    "import h5py\n",
    "import os\n",
    "import fnmatch\n",
    "import sys\n",
    "\n",
    "import matplotlib.pyplot as plt\n",
    "import seaborn as sns\n",
    "from pyspark.ml.feature import Bucketizer\n",
    "\n",
    "import findspark\n",
    "from pyspark.sql import SparkSession, Row\n",
    "from pyspark import SparkContext\n",
    "from pyspark.sql.types import *\n",
    "\n",
    "from pyspark.ml.feature import MinMaxScaler\n",
    "from pyspark.ml.feature import VectorAssembler\n",
    "from pyspark.ml import Pipeline\n",
    "from pyspark.sql.functions import udf\n",
    "\n",
    "from pyspark_dist_explore import hist\n",
    "\n",
    "from pyspark.sql.functions import col, isnan, when, count, sum, mean\n",
    "from pyspark.ml.evaluation import RegressionEvaluator\n",
    "from pyspark.ml.feature import StringIndexer\n",
    "\n",
    "import pyspark.sql.functions as F\n",
    "from pyspark.sql.types import ArrayType, DoubleType\n",
    "from pyspark.ml.feature import RobustScaler, StandardScaler\n",
    "\n",
    "import sklearn\n",
    "\n",
    "from pyspark.sql.functions import row_number, monotonically_increasing_id\n",
    "from pyspark.sql import Window\n",
    "from pyspark.sql.window import Window\n",
    "from pyspark.sql.functions import rank, col, avg, approx_count_distinct\n",
    "import findspark\n",
    "from pyspark.conf import SparkConf\n",
    "from pyspark.sql import SparkSession\n",
    "from pyspark.sql.functions import  countDistinct\n",
    "from pyspark.sql.functions import avg, lit\n",
    "from pyspark.ml.feature import VectorAssembler\n",
    "from pyspark.sql.functions import udf\n",
    "from pyspark.sql.types import DoubleType\n",
    "from pyspark.sql.functions import dense_rank\n",
    "from pyspark.ml.linalg import Vectors\n",
    "from pyspark.ml.feature import MinMaxScaler\n",
    "from pyspark.ml.feature import StringIndexer\n",
    "from pyspark.ml import Pipeline\n",
    "\n",
    "\n",
    "\n"
   ]
  },
  {
   "cell_type": "markdown",
   "id": "bf5fcc4d",
   "metadata": {},
   "source": [
    "#### Create spark cluster: "
   ]
  },
  {
   "cell_type": "code",
   "execution_count": 2,
   "id": "2799061b",
   "metadata": {},
   "outputs": [],
   "source": [
    "findspark.init()\n",
    "\n",
    "conf = SparkConf().setAppName(\"Songs\").setMaster(\"local[*]\") \\\n",
    "    .set(\"spark.executor.instances\", \"4\").set(\"spark.executor.cores\", \"2\") \\\n",
    "    .set(\"spark.executor.memory\", \"12g\").set(\"spark.driver.memory\", \"10g\")\n",
    "\n",
    "spark = SparkSession.builder.config(conf=conf).getOrCreate()\n",
    "sc = spark.sparkContext\n"
   ]
  },
  {
   "cell_type": "markdown",
   "id": "b8c63467",
   "metadata": {},
   "source": [
    "#### path to datasets: "
   ]
  },
  {
   "cell_type": "code",
   "execution_count": 3,
   "id": "f5dfd90b",
   "metadata": {},
   "outputs": [],
   "source": [
    "data_MSD_path = 'MillionSongSubset'\n"
   ]
  },
  {
   "cell_type": "markdown",
   "id": "8b22f757",
   "metadata": {},
   "source": [
    "\n",
    "####  Read the MSD dataset from HDF5 directories: \n",
    "To read the MSD dataset from HDF5 directories, the HDFStore function from the pandas library is utilized. It enables the reading of each .h5 file and storing the data in a PySpark dataframe. Each file contains three keys: '/analysis/songs/', '/metadata/songs/', and '/musicbrainz/songs/'. These keys provide access to the data and metadata stored within the dataset."
   ]
  },
  {
   "cell_type": "markdown",
   "id": "ad73bd2e",
   "metadata": {},
   "source": [
    "\n",
    "#### Load the data in parallel with the help of spark RDD "
   ]
  },
  {
   "cell_type": "markdown",
   "id": "2ee41d05",
   "metadata": {},
   "source": [
    "####  Extracting desirable features: \n",
    "Following columns are chosen to be used in this project. "
   ]
  },
  {
   "cell_type": "code",
   "execution_count": 4,
   "id": "1be84b2b",
   "metadata": {},
   "outputs": [],
   "source": [
    "attribs=['song_id',\n",
    "        'title', \n",
    "        'artist_id', \n",
    "        'duration',\n",
    "        'key', \n",
    "        'loudness',\n",
    "        'mode',\n",
    "        'tempo',\n",
    "        'time_signature',\n",
    "        'song_hotttnesss', \n",
    "        'artist_hotttnesss', \n",
    "        'artist_familiarity', \n",
    "        'year'\n",
    "       ] \n"
   ]
  },
  {
   "cell_type": "code",
   "execution_count": 5,
   "id": "d3e7c360",
   "metadata": {},
   "outputs": [],
   "source": [
    "\n",
    "# This function is used in RDD to read each .h5 file and return a list of string(data of columns)\n",
    "# f: directory path from spark.wholeTextFiles() function\n",
    "# d: dataset directory path\n",
    "def read_h5(f,d):\n",
    "    # prune the file path is essential here, because the wholeTextFile function returns the absolute path\n",
    "    hdf = pd.HDFStore(f[f.index(d):],mode ='r', header = False)  # Openning HDFStore to read .h5 file\n",
    "    \n",
    "    # The dataset is HDFS file with 3 main key {analysis, metadata, musicbrains} which 'songs' key allow us \n",
    "    # to access the data of each song(It should be mentioned that there are)  \n",
    "    df1 = hdf.get('/analysis/songs/')\n",
    "    df2 = hdf.get('/metadata/songs/')\n",
    "    df3 = hdf.get('/musicbrainz/songs/')\n",
    "    \n",
    "    hdf.close()                                                  # Closing HDFStore  \n",
    "    \n",
    "    # concatenate all columns together in a dataframe and pick our desired features\n",
    "    df_concat = pd.concat([df1,df2,df3], axis = 1)[attribs] \n",
    "    \n",
    "    # return the result as a list of string to be able to store in rdd\n",
    "    return df_concat.values.tolist()[0]"
   ]
  },
  {
   "cell_type": "code",
   "execution_count": 6,
   "id": "136d08bb",
   "metadata": {},
   "outputs": [],
   "source": [
    "# find all path of all files without loading the files\n",
    "rdd = sc.wholeTextFiles(data_MSD_path+'/*/*/*/*.h5').map(lambda x: read_h5(x[0],data_MSD_path))"
   ]
  },
  {
   "cell_type": "code",
   "execution_count": 8,
   "id": "c730a42c",
   "metadata": {},
   "outputs": [
    {
     "data": {
      "text/plain": [
       "['SOMZWCG12A8C13C480',\n",
       " \"I Didn't Mean To\",\n",
       " 'ARD7TVE1187B99BFB1',\n",
       " 218.93179,\n",
       " 1,\n",
       " -11.197,\n",
       " 0,\n",
       " 92.198,\n",
       " 4,\n",
       " 0.6021199899057548,\n",
       " 0.4019975433642836,\n",
       " 0.5817937658450281,\n",
       " 0]"
      ]
     },
     "execution_count": 8,
     "metadata": {},
     "output_type": "execute_result"
    }
   ],
   "source": [
    "rdd.first()"
   ]
  },
  {
   "cell_type": "markdown",
   "id": "eabcedb6",
   "metadata": {},
   "source": [
    "Createing Spark dataframe from the RDD: "
   ]
  },
  {
   "cell_type": "code",
   "execution_count": 9,
   "id": "fd17c753",
   "metadata": {},
   "outputs": [],
   "source": [
    "# creating the schema for spark dataframe \n",
    "schema = StructType([\n",
    "    StructField('song_id', StringType(), True),\n",
    "    StructField('title', StringType(), True),\n",
    "    StructField('artist_id', StringType(), True),\n",
    "    StructField('duration', FloatType(), True),\n",
    "    StructField('key', IntegerType(), True),\n",
    "    StructField('loudness', FloatType(), True),\n",
    "    StructField('mode', IntegerType(), True),\n",
    "    StructField('tempo', FloatType(), True),\n",
    "    StructField('time_signature', IntegerType(), True),\n",
    "    StructField('song_hotttnesss', FloatType(), True),\n",
    "    StructField('artist_hotttnesss', FloatType(), True),\n",
    "    StructField('artist_familiarity', FloatType(), True), \n",
    "    StructField('year', IntegerType(), True)\n",
    "])\n",
    "data_MSD = spark.createDataFrame(rdd, schema)"
   ]
  },
  {
   "cell_type": "code",
   "execution_count": 10,
   "id": "0a934a59",
   "metadata": {},
   "outputs": [
    {
     "data": {
      "text/html": [
       "<div>\n",
       "<style scoped>\n",
       "    .dataframe tbody tr th:only-of-type {\n",
       "        vertical-align: middle;\n",
       "    }\n",
       "\n",
       "    .dataframe tbody tr th {\n",
       "        vertical-align: top;\n",
       "    }\n",
       "\n",
       "    .dataframe thead th {\n",
       "        text-align: right;\n",
       "    }\n",
       "</style>\n",
       "<table border=\"1\" class=\"dataframe\">\n",
       "  <thead>\n",
       "    <tr style=\"text-align: right;\">\n",
       "      <th></th>\n",
       "      <th>0</th>\n",
       "      <th>1</th>\n",
       "      <th>2</th>\n",
       "      <th>3</th>\n",
       "      <th>4</th>\n",
       "    </tr>\n",
       "  </thead>\n",
       "  <tbody>\n",
       "    <tr>\n",
       "      <th>summary</th>\n",
       "      <td>count</td>\n",
       "      <td>mean</td>\n",
       "      <td>stddev</td>\n",
       "      <td>min</td>\n",
       "      <td>max</td>\n",
       "    </tr>\n",
       "    <tr>\n",
       "      <th>song_id</th>\n",
       "      <td>10000</td>\n",
       "      <td>None</td>\n",
       "      <td>None</td>\n",
       "      <td>SOAAAQN12AB01856D3</td>\n",
       "      <td>SOZZWWW12A58A8146A</td>\n",
       "    </tr>\n",
       "    <tr>\n",
       "      <th>title</th>\n",
       "      <td>10000</td>\n",
       "      <td>802.5714285714286</td>\n",
       "      <td>962.5782837675865</td>\n",
       "      <td></td>\n",
       "      <td>Último Desejo</td>\n",
       "    </tr>\n",
       "    <tr>\n",
       "      <th>artist_id</th>\n",
       "      <td>10000</td>\n",
       "      <td>None</td>\n",
       "      <td>None</td>\n",
       "      <td>AR009211187B989185</td>\n",
       "      <td>ARZZRK91187B9A5CA5</td>\n",
       "    </tr>\n",
       "    <tr>\n",
       "      <th>duration</th>\n",
       "      <td>10000</td>\n",
       "      <td>238.5075185521245</td>\n",
       "      <td>114.13751360673984</td>\n",
       "      <td>1.04444</td>\n",
       "      <td>1819.7677</td>\n",
       "    </tr>\n",
       "    <tr>\n",
       "      <th>key</th>\n",
       "      <td>10000</td>\n",
       "      <td>5.2761</td>\n",
       "      <td>3.5540866538668308</td>\n",
       "      <td>0</td>\n",
       "      <td>11</td>\n",
       "    </tr>\n",
       "    <tr>\n",
       "      <th>loudness</th>\n",
       "      <td>10000</td>\n",
       "      <td>-10.485668504679204</td>\n",
       "      <td>5.399788230762881</td>\n",
       "      <td>-51.643</td>\n",
       "      <td>0.566</td>\n",
       "    </tr>\n",
       "    <tr>\n",
       "      <th>mode</th>\n",
       "      <td>10000</td>\n",
       "      <td>0.6911</td>\n",
       "      <td>0.4620629180252628</td>\n",
       "      <td>0</td>\n",
       "      <td>1</td>\n",
       "    </tr>\n",
       "    <tr>\n",
       "      <th>tempo</th>\n",
       "      <td>10000</td>\n",
       "      <td>122.91544865837098</td>\n",
       "      <td>35.184411706471344</td>\n",
       "      <td>0.0</td>\n",
       "      <td>262.828</td>\n",
       "    </tr>\n",
       "    <tr>\n",
       "      <th>time_signature</th>\n",
       "      <td>10000</td>\n",
       "      <td>3.5648</td>\n",
       "      <td>1.2662390359365858</td>\n",
       "      <td>0</td>\n",
       "      <td>7</td>\n",
       "    </tr>\n",
       "    <tr>\n",
       "      <th>song_hotttnesss</th>\n",
       "      <td>10000</td>\n",
       "      <td>NaN</td>\n",
       "      <td>NaN</td>\n",
       "      <td>0.0</td>\n",
       "      <td>NaN</td>\n",
       "    </tr>\n",
       "    <tr>\n",
       "      <th>artist_hotttnesss</th>\n",
       "      <td>10000</td>\n",
       "      <td>0.3855522034087218</td>\n",
       "      <td>0.1436472996886391</td>\n",
       "      <td>0.0</td>\n",
       "      <td>1.0825026</td>\n",
       "    </tr>\n",
       "    <tr>\n",
       "      <th>artist_familiarity</th>\n",
       "      <td>10000</td>\n",
       "      <td>NaN</td>\n",
       "      <td>NaN</td>\n",
       "      <td>0.0</td>\n",
       "      <td>NaN</td>\n",
       "    </tr>\n",
       "    <tr>\n",
       "      <th>year</th>\n",
       "      <td>10000</td>\n",
       "      <td>934.7046</td>\n",
       "      <td>996.6506573479595</td>\n",
       "      <td>0</td>\n",
       "      <td>2010</td>\n",
       "    </tr>\n",
       "  </tbody>\n",
       "</table>\n",
       "</div>"
      ],
      "text/plain": [
       "                        0                    1                   2   \n",
       "summary             count                 mean              stddev  \\\n",
       "song_id             10000                 None                None   \n",
       "title               10000    802.5714285714286   962.5782837675865   \n",
       "artist_id           10000                 None                None   \n",
       "duration            10000    238.5075185521245  114.13751360673984   \n",
       "key                 10000               5.2761  3.5540866538668308   \n",
       "loudness            10000  -10.485668504679204   5.399788230762881   \n",
       "mode                10000               0.6911  0.4620629180252628   \n",
       "tempo               10000   122.91544865837098  35.184411706471344   \n",
       "time_signature      10000               3.5648  1.2662390359365858   \n",
       "song_hotttnesss     10000                  NaN                 NaN   \n",
       "artist_hotttnesss   10000   0.3855522034087218  0.1436472996886391   \n",
       "artist_familiarity  10000                  NaN                 NaN   \n",
       "year                10000             934.7046   996.6506573479595   \n",
       "\n",
       "                                     3                   4  \n",
       "summary                            min                 max  \n",
       "song_id             SOAAAQN12AB01856D3  SOZZWWW12A58A8146A  \n",
       "title                                        Último Desejo  \n",
       "artist_id           AR009211187B989185  ARZZRK91187B9A5CA5  \n",
       "duration                       1.04444           1819.7677  \n",
       "key                                  0                  11  \n",
       "loudness                       -51.643               0.566  \n",
       "mode                                 0                   1  \n",
       "tempo                              0.0             262.828  \n",
       "time_signature                       0                   7  \n",
       "song_hotttnesss                    0.0                 NaN  \n",
       "artist_hotttnesss                  0.0           1.0825026  \n",
       "artist_familiarity                 0.0                 NaN  \n",
       "year                                 0                2010  "
      ]
     },
     "execution_count": 10,
     "metadata": {},
     "output_type": "execute_result"
    }
   ],
   "source": [
    "#distribution of numerical columns\n",
    "data_MSD.describe().toPandas().transpose()"
   ]
  },
  {
   "cell_type": "code",
   "execution_count": 11,
   "id": "8403abec",
   "metadata": {},
   "outputs": [
    {
     "data": {
      "text/plain": [
       "DataFrame[song_id: string, title: string, artist_id: string, duration: float, key: int, loudness: float, mode: int, tempo: float, time_signature: int, song_hotttnesss: float, artist_hotttnesss: float, artist_familiarity: float, year: int]"
      ]
     },
     "execution_count": 11,
     "metadata": {},
     "output_type": "execute_result"
    }
   ],
   "source": [
    "data_MSD.persist()"
   ]
  },
  {
   "cell_type": "code",
   "execution_count": 12,
   "id": "5c81c21f",
   "metadata": {},
   "outputs": [],
   "source": [
    "# checkpoint\n",
    "df = data_MSD"
   ]
  },
  {
   "cell_type": "markdown",
   "id": "4917c1dc",
   "metadata": {},
   "source": [
    "# STEPS:\n",
    "\n",
    "1. Checking Unique Values and Duplicates:\n",
    "   - Remove Duplicate Rows.\n",
    "   - Check Unique Values in each column.\n",
    "   - Check for Duplicates in groups of `song_id`, `artist_id`, and `title` together.\n",
    "\n",
    "2. Missing Values and Anomalies:\n",
    "   - Identify Missing Values.\n",
    "   - Handle Missing Values.\n",
    "   - Identify Anomalies.\n",
    "\n",
    "3. Standardization:\n",
    "   - Standardize Numeric Columns.\n",
    "\n",
    "4. Indexing String Features.\n",
    "\n",
    "5. Removing Unimportant Features.\n",
    "\n",
    "6. Store the Final Dataset.\n",
    "\n",
    "7. Rephrase the Final Dataset to match the original format.\n",
    "\n",
    "Remember to adapt these steps to your specific dataset and programming language as needed."
   ]
  },
  {
   "cell_type": "markdown",
   "id": "f8c8ab71",
   "metadata": {},
   "source": [
    " ### Checking Unique Values and Duplicates:"
   ]
  },
  {
   "cell_type": "markdown",
   "id": "0ea91787",
   "metadata": {},
   "source": [
    "- Drope Duplicate"
   ]
  },
  {
   "cell_type": "code",
   "execution_count": 13,
   "id": "e51357fc",
   "metadata": {},
   "outputs": [
    {
     "data": {
      "text/plain": [
       "10000"
      ]
     },
     "execution_count": 13,
     "metadata": {},
     "output_type": "execute_result"
    }
   ],
   "source": [
    "# drop duplicates from the DataFrame based on all columns\n",
    "data_MSD = data_MSD.dropDuplicates()\n",
    "\n",
    "# Count the number of rows in the DataFrame\n",
    "data_MSD.count()"
   ]
  },
  {
   "cell_type": "markdown",
   "id": "c3fb9833",
   "metadata": {},
   "source": [
    "- Unique Values"
   ]
  },
  {
   "cell_type": "code",
   "execution_count": 14,
   "id": "2307eddc",
   "metadata": {},
   "outputs": [],
   "source": [
    "# Collect the unique values of each column\n",
    "def unique_data(df, columns):\n",
    "    unique = [df.select(x).distinct().count() for x in columns]\n",
    "\n",
    "    # Print the unique values for each column\n",
    "    total = df.count()\n",
    "    print(f\"Number of unique values for each column, \\nthe total count is {total}\\n \")\n",
    "\n",
    "    for i in range(len(columns)):\n",
    "        print(columns[i], unique[i])"
   ]
  },
  {
   "cell_type": "code",
   "execution_count": 15,
   "id": "1ebfeedc",
   "metadata": {},
   "outputs": [
    {
     "name": "stdout",
     "output_type": "stream",
     "text": [
      "Number of unique values for each column, \n",
      "the total count is 10000\n",
      " \n",
      "song_id 10000\n",
      "title 9709\n",
      "artist_id 3888\n",
      "duration 6553\n",
      "key 12\n",
      "loudness 7435\n",
      "mode 2\n",
      "tempo 9336\n",
      "time_signature 6\n",
      "song_hotttnesss 1919\n",
      "artist_hotttnesss 3713\n",
      "artist_familiarity 4026\n",
      "year 69\n"
     ]
    }
   ],
   "source": [
    "columns = data_MSD.columns\n",
    "unique_data(data_MSD, columns)"
   ]
  },
  {
   "cell_type": "markdown",
   "id": "3d588163",
   "metadata": {},
   "source": [
    "- Checking Duplicate in Group of song_id, artist_id and title together:"
   ]
  },
  {
   "cell_type": "code",
   "execution_count": 16,
   "id": "a0555d1c",
   "metadata": {},
   "outputs": [
    {
     "name": "stdout",
     "output_type": "stream",
     "text": [
      "Count of Group song and title: 10000\n",
      "Count of Group song and artist: 10000\n"
     ]
    }
   ],
   "source": [
    "# Calculate the count of distinct combinations of song_id and title\n",
    "song_title_count = data_MSD.groupBy('song_id', 'title').count().count()\n",
    "\n",
    "# Calculate the count of distinct combinations of song_id and artist_id\n",
    "song_artist_count = data_MSD.groupBy('song_id', 'artist_id').count().count()\n",
    "\n",
    "# Print the count of group song and title\n",
    "print('Count of Group song and title:', song_title_count)\n",
    "\n",
    "# Print the count of group song and artist\n",
    "print('Count of Group song and artist:', song_artist_count)\n"
   ]
  },
  {
   "cell_type": "code",
   "execution_count": 17,
   "id": "976f1cbd",
   "metadata": {},
   "outputs": [
    {
     "name": "stdout",
     "output_type": "stream",
     "text": [
      "Count of songs with more than one distinct title: 0\n"
     ]
    }
   ],
   "source": [
    "# Calculate the count of distinct titles per song\n",
    "titles_per_song = data_MSD.groupBy(\"song_id\").agg(countDistinct(\"title\").alias(\"titles_count\"))\n",
    "\n",
    "# Filter songs with more than one distinct title\n",
    "filtered_count = titles_per_song.filter(titles_per_song.titles_count > 1).count()\n",
    "\n",
    "# Print the count of songs with more than one distinct title\n",
    "print(\"Count of songs with more than one distinct title:\", filtered_count)\n"
   ]
  },
  {
   "cell_type": "markdown",
   "id": "2e21b3c6",
   "metadata": {},
   "source": [
    "\n",
    "#####  Dealing with missing values"
   ]
  },
  {
   "cell_type": "markdown",
   "id": "ad0c1f69",
   "metadata": {},
   "source": [
    "- Checking Null, empty, None, Nan values for each column: \n",
    "- Function:"
   ]
  },
  {
   "cell_type": "code",
   "execution_count": 123,
   "id": "50114487",
   "metadata": {},
   "outputs": [],
   "source": [
    "\n",
    "# Check for missing values and count them: empty, None, Null, Nan \n",
    "#ps_df = data_MSD.select([count(when(col(c).contains('None') | col(c).contains('NULL') | (col(c) == '' ) | col(c).isNull() | isnan(c), c )).alias(c) for c in data_MSD.columns])\n",
    "data_MSD =df"
   ]
  },
  {
   "cell_type": "code",
   "execution_count": 19,
   "id": "8b637ec0",
   "metadata": {},
   "outputs": [],
   "source": [
    "#from pyspark.sql.functions import col, count, isnan, when\n",
    "def column_with_missing_value(df):\n",
    "    # Create a list of expressions to check for null, NaN, empty strings, 'None', and 'NULL' values\n",
    "    null_exprs = [count(when(col(c).isNull() | isnan(c) | (col(c) == '') | \n",
    "                         col(c).isin(['None', 'NULL']), c)).alias(c) for c in df.columns]\n",
    "\n",
    "    # Apply the expressions to the DataFrame\n",
    "    ps_df = df.select(null_exprs)\n",
    "\n",
    "    # Create a list of columns with missing values\n",
    "    cols_with_missing_values = [c for c in ps_df.columns if ps_df.select(c).first()[0] > 0]\n",
    "\n",
    "    # Select only those columns with missing values\n",
    "    ps_df.select(cols_with_missing_values).show()"
   ]
  },
  {
   "cell_type": "code",
   "execution_count": 57,
   "id": "d77ad1c0",
   "metadata": {},
   "outputs": [
    {
     "data": {
      "text/plain": [
       "DataFrame[song_id: string, title: string, artist_id: string, duration: float, key: int, loudness: float, mode: int, tempo: float, time_signature: int, song_hotttnesss: float, artist_hotttnesss: float, artist_familiarity: float, year: int]"
      ]
     },
     "execution_count": 57,
     "metadata": {},
     "output_type": "execute_result"
    }
   ],
   "source": [
    "data_MSD.persist()"
   ]
  },
  {
   "cell_type": "code",
   "execution_count": 58,
   "id": "f74213c4",
   "metadata": {},
   "outputs": [
    {
     "data": {
      "text/plain": [
       "10000"
      ]
     },
     "execution_count": 58,
     "metadata": {},
     "output_type": "execute_result"
    }
   ],
   "source": [
    "data_MSD.count()"
   ]
  },
  {
   "cell_type": "markdown",
   "id": "32a600e1",
   "metadata": {},
   "source": [
    "### Missing Values"
   ]
  },
  {
   "cell_type": "code",
   "execution_count": 22,
   "id": "aebb14ee",
   "metadata": {},
   "outputs": [
    {
     "name": "stdout",
     "output_type": "stream",
     "text": [
      "+-----+---------------+------------------+\n",
      "|title|song_hotttnesss|artist_familiarity|\n",
      "+-----+---------------+------------------+\n",
      "|    1|           4352|                 4|\n",
      "+-----+---------------+------------------+\n",
      "\n"
     ]
    }
   ],
   "source": [
    "#print out the number of missing values of columns if there is any\n",
    "column_with_missing_value(data_MSD)\n"
   ]
  },
  {
   "cell_type": "markdown",
   "id": "be088684",
   "metadata": {},
   "source": [
    "######  The following columns were identified to have null values:\n",
    "\n",
    "- title :"
   ]
  },
  {
   "cell_type": "code",
   "execution_count": 23,
   "id": "2dc15bea",
   "metadata": {},
   "outputs": [
    {
     "name": "stdout",
     "output_type": "stream",
     "text": [
      "+-----+\n",
      "|title|\n",
      "+-----+\n",
      "|     |\n",
      "+-----+\n",
      "\n"
     ]
    }
   ],
   "source": [
    "# There is only one missing value in title column\n",
    "# printing out the specific row where the missing value occurs in the title column to see the actual value\n",
    "missing_title_row1 = data_MSD.filter(data_MSD['title'].isNull() | (data_MSD['title'] == ''))\n",
    "missing_title_row1.select('title').show()"
   ]
  },
  {
   "cell_type": "code",
   "execution_count": 124,
   "id": "81a213a0",
   "metadata": {},
   "outputs": [],
   "source": [
    "# There is only one missing value in title column and\n",
    "# droping the row with null title since it is very expensive to fill will corect value in this big data\n",
    "\n",
    "data_MSD = data_MSD.filter((col(\"title\") != ''))"
   ]
  },
  {
   "cell_type": "markdown",
   "id": "e5a52e1f",
   "metadata": {},
   "source": [
    "- artist_familiarity:"
   ]
  },
  {
   "cell_type": "code",
   "execution_count": 25,
   "id": "6aa332e1",
   "metadata": {},
   "outputs": [
    {
     "name": "stdout",
     "output_type": "stream",
     "text": [
      "+------------------+-----+\n",
      "|artist_familiarity|count|\n",
      "+------------------+-----+\n",
      "|               NaN|    4|\n",
      "+------------------+-----+\n",
      "\n"
     ]
    }
   ],
   "source": [
    "# check the type of missiing value or null value\n",
    "missing_title_row2 = data_MSD.filter(data_MSD['artist_familiarity'].isNull() | isnan(data_MSD['artist_familiarity']) | (data_MSD['artist_familiarity'] == 'Null') )           \n",
    "missing_title_row2.groupby('artist_familiarity').count().show()"
   ]
  },
  {
   "cell_type": "code",
   "execution_count": 125,
   "id": "2b25eea9",
   "metadata": {},
   "outputs": [],
   "source": [
    "# There is only 4 Nane value in artist_familiarity column and\n",
    "# droping the row with nan value since it is very expensive to fill will corect value in this big data\n",
    "data_MSD = data_MSD.dropna(subset=['artist_familiarity'])"
   ]
  },
  {
   "cell_type": "code",
   "execution_count": 27,
   "id": "c9a6e9db",
   "metadata": {},
   "outputs": [
    {
     "name": "stdout",
     "output_type": "stream",
     "text": [
      "+---------------+\n",
      "|song_hotttnesss|\n",
      "+---------------+\n",
      "|           4348|\n",
      "+---------------+\n",
      "\n"
     ]
    }
   ],
   "source": [
    "# Select only those columns with missing values\n",
    "column_with_missing_value(data_MSD)"
   ]
  },
  {
   "cell_type": "markdown",
   "id": "ee58db90",
   "metadata": {},
   "source": [
    "- song_hotttnesss"
   ]
  },
  {
   "cell_type": "code",
   "execution_count": 79,
   "id": "8c846a8b",
   "metadata": {},
   "outputs": [
    {
     "name": "stdout",
     "output_type": "stream",
     "text": [
      "+---------------+-----+\n",
      "|song_hotttnesss|count|\n",
      "+---------------+-----+\n",
      "|            NaN| 4348|\n",
      "+---------------+-----+\n",
      "\n"
     ]
    }
   ],
   "source": [
    "missing_title_row3 = data_MSD.filter(data_MSD['song_hotttnesss'].isNull() | isnan(data_MSD['song_hotttnesss']) | (data_MSD['song_hotttnesss'] == 'Null') )           \n",
    "missing_title_row3.groupby('song_hotttnesss').count().show()"
   ]
  },
  {
   "cell_type": "code",
   "execution_count": 112,
   "id": "130a8e6d",
   "metadata": {},
   "outputs": [],
   "source": [
    "# replace the Nan values\n",
    "\n",
    "# Calculate the average familiarity for each artist_id\n",
    "avg_familiarity = data_MSD.groupBy('artist_id').agg(avg('song_hotttnesss').alias('avg_hotttnesss'))\n",
    "\n",
    "# Join the distinct artist familiarity with the original data\n",
    "joined_data = data_MSD.join(avg_familiarity, on='artist_id')\n",
    "\n",
    "# Rdef calculate_feature_importance(features, label, data):eplace the artist familiarity with the distinct value or NaN\n",
    "data_MSD = joined_data.withColumn('song_hotttnesss', when(isnan(col('song_hotttnesss')), col('avg_hotttnesss')).otherwise(col('song_hotttnesss'))).drop(avg_familiarity['avg_hotttnesss'])\n"
   ]
  },
  {
   "cell_type": "code",
   "execution_count": 113,
   "id": "7a9cd872",
   "metadata": {},
   "outputs": [
    {
     "name": "stdout",
     "output_type": "stream",
     "text": [
      "+---------------+\n",
      "|song_hotttnesss|\n",
      "+---------------+\n",
      "|           4348|\n",
      "+---------------+\n",
      "\n"
     ]
    }
   ],
   "source": [
    "# Select only those columns with missing values\n",
    "column_with_missing_value(data_MSD)"
   ]
  },
  {
   "cell_type": "code",
   "execution_count": 114,
   "id": "1b31bb16",
   "metadata": {},
   "outputs": [
    {
     "name": "stdout",
     "output_type": "stream",
     "text": [
      "+--------------+-----+\n",
      "|avg_hotttnesss|count|\n",
      "+--------------+-----+\n",
      "|           NaN| 2292|\n",
      "+--------------+-----+\n",
      "\n"
     ]
    }
   ],
   "source": [
    "# Calculate the average familiarity nan\n",
    "avg_familiarity.groupBy('avg_hotttnesss').count().filter(isnan('avg_hotttnesss')).show()"
   ]
  },
  {
   "cell_type": "code",
   "execution_count": 128,
   "id": "c243faa9",
   "metadata": {},
   "outputs": [],
   "source": [
    "# Drop rows with NaN values in artist_familiarity column\n",
    "data_MSD = data_MSD.dropna(subset=['song_hotttnesss'])"
   ]
  },
  {
   "cell_type": "markdown",
   "id": "d66b9de7",
   "metadata": {},
   "source": [
    "- Year\n",
    "  - zero values means null value in this feature\n"
   ]
  },
  {
   "cell_type": "code",
   "execution_count": 103,
   "id": "3e1a9771",
   "metadata": {},
   "outputs": [
    {
     "data": {
      "text/plain": [
       "5315"
      ]
     },
     "execution_count": 103,
     "metadata": {},
     "output_type": "execute_result"
    }
   ],
   "source": [
    "# show the count of data where year is 0\n",
    "data_MSD.filter('year == 0').count()"
   ]
  },
  {
   "cell_type": "markdown",
   "id": "0413d403",
   "metadata": {},
   "source": [
    "- solution:    \n",
    "   - find the average year of each artist and replace instead of 0"
   ]
  },
  {
   "cell_type": "code",
   "execution_count": 126,
   "id": "7b409d23",
   "metadata": {},
   "outputs": [],
   "source": [
    "# Filling missing data with the mean of year corresponding to the artist_Id\n",
    "artist_mean_year = data_MSD.filter('year != 0').groupBy('artist_id').agg(mean('year').alias('mean_year'))\n",
    "\n",
    "# Join the mean_year values back to the original DataFrame using a left join\n",
    "data_MSD = data_MSD.join(artist_mean_year, on='artist_id', how='left')\n",
    "\n",
    "# Fill in missing year values with the mean value for the corresponding artist\n",
    "data_MSD = data_MSD.withColumn('year', when(col('year') == 0, col('mean_year')).otherwise(col('year')))\n",
    "\n",
    "# Drop the mean_year column\n",
    "data_MSD = data_MSD.drop('mean_year')\n"
   ]
  },
  {
   "cell_type": "code",
   "execution_count": 105,
   "id": "b16be8c5",
   "metadata": {},
   "outputs": [
    {
     "data": {
      "text/plain": [
       "0"
      ]
     },
     "execution_count": 105,
     "metadata": {},
     "output_type": "execute_result"
    }
   ],
   "source": [
    "# show the count of data where year is 0\n",
    "data_MSD.filter('year == 0').count()"
   ]
  },
  {
   "cell_type": "code",
   "execution_count": 106,
   "id": "985720d3",
   "metadata": {},
   "outputs": [
    {
     "name": "stdout",
     "output_type": "stream",
     "text": [
      "+---------------+----+\n",
      "|song_hotttnesss|year|\n",
      "+---------------+----+\n",
      "|           4348|3668|\n",
      "+---------------+----+\n",
      "\n"
     ]
    }
   ],
   "source": [
    "# Select only those columns with missing values, now the yeeear has Null values\n",
    "column_with_missing_value(data_MSD)"
   ]
  },
  {
   "cell_type": "code",
   "execution_count": 127,
   "id": "261c8e9c",
   "metadata": {},
   "outputs": [],
   "source": [
    "# Fill in missing year values with -1 since their artist does not show any year in dataset\n",
    "data_MSD = data_MSD.withColumn('year', when(data_MSD.year.isNull(), lit(1500)).otherwise(data_MSD.year))\n"
   ]
  },
  {
   "cell_type": "code",
   "execution_count": 129,
   "id": "e7f5a5ff",
   "metadata": {},
   "outputs": [
    {
     "name": "stdout",
     "output_type": "stream",
     "text": [
      "++\n",
      "||\n",
      "++\n",
      "||\n",
      "++\n",
      "\n"
     ]
    }
   ],
   "source": [
    "# Select only those columns with missing values\n",
    "column_with_missing_value(data_MSD)"
   ]
  },
  {
   "cell_type": "markdown",
   "id": "8ef9f571",
   "metadata": {},
   "source": [
    "- Making sure the changes being applied and persist: "
   ]
  },
  {
   "cell_type": "code",
   "execution_count": 130,
   "id": "bf502c6f",
   "metadata": {},
   "outputs": [
    {
     "data": {
      "text/plain": [
       "DataFrame[artist_id: string, song_id: string, title: string, duration: float, key: int, loudness: float, mode: int, tempo: float, time_signature: int, song_hotttnesss: float, artist_hotttnesss: float, artist_familiarity: float, year: double]"
      ]
     },
     "execution_count": 130,
     "metadata": {},
     "output_type": "execute_result"
    }
   ],
   "source": [
    "data_MSD.persist()"
   ]
  },
  {
   "cell_type": "code",
   "execution_count": 118,
   "id": "02b8391c",
   "metadata": {},
   "outputs": [
    {
     "data": {
      "text/plain": [
       "5647"
      ]
     },
     "execution_count": 118,
     "metadata": {},
     "output_type": "execute_result"
    }
   ],
   "source": [
    "data_MSD.count()"
   ]
  },
  {
   "cell_type": "markdown",
   "id": "3c37a587",
   "metadata": {},
   "source": [
    "# Columns Preview After Dealing with Null values: "
   ]
  },
  {
   "cell_type": "markdown",
   "id": "333508a1",
   "metadata": {},
   "source": [
    "### Categorical Variables:\n",
    "- key: \n",
    "  - range from 0 to 11\n",
    "  - representing different musical keys.\n",
    "### Numeric Variables:\n",
    "- Time Signature: \n",
    "  - ranges from 0 to 7, with each value denoting a specific time signature.\n",
    "  - representing the time signature of the song (the number of beats per measure).\n",
    "- Mode: \n",
    "  - has two values: 0 for minor and 1 for major.\n",
    "  - representing the mode of the song, which indicates whether the song is in a major or minor key.\n",
    "### Continuous Variables:\n",
    "- duration:\n",
    "  - a wide range of values\n",
    "  - representing the duration of the song in seconds (the length of the songs).\n",
    "- Loudness:\n",
    "  - ranges from -41.691 to 0.566\n",
    "  - representing the loudness of the song in decibels. (the volume level of the songs).\n",
    "- Tempo: \n",
    "  - ranges from 0.0 to 258.677\n",
    "  - representing the tempo of the song in beats per minute (the speed or pace of the songs).\n",
    "- Song Hotttnesss:\n",
    "  - ranges from 0.0 to 1.0\n",
    "  - representing the \"hotness\" or popularity of the song (the relative popularity of the songs).\n",
    "- Artist Hotttnesss: \n",
    "  - ranges from 0.0 to 1.0825026\n",
    "  - representing the \"hotness\" or popularity of the artist associated with the song (trelative popularity of the artists).\n",
    "- Artist Familiarity: \n",
    "  - ranges from 0.0 to 1.0\n",
    "  - representing the familiarity of the artist associated with the song ( level of familiarity with the artists).\n",
    "- Year:\n",
    "  - ranges from 1954.0 to 2010.0, with a minimum value of 1500 as a flag value,\n",
    "  - representing the year in which the song was released (the time period of the songs)."
   ]
  },
  {
   "cell_type": "markdown",
   "id": "6e61aefe",
   "metadata": {},
   "source": [
    "### visualization part:\n",
    "- finctions:"
   ]
  },
  {
   "cell_type": "code",
   "execution_count": 40,
   "id": "19bdd141",
   "metadata": {},
   "outputs": [],
   "source": [
    "def plot_histograms(data, numerical_cols):\n",
    "    # Convert Spark DataFrame to pandas DataFrame and select only the numerical columns\n",
    "    pandas_df = data.select(numerical_cols).toPandas()\n",
    "\n",
    "    fig, axs = plt.subplots(nrows=3, ncols=3, figsize=(20,10))\n",
    "\n",
    "    # Iterate over the columns and create subplots\n",
    "    for i, col in enumerate(numerical_cols):\n",
    "        r = i // 3\n",
    "        c = i % 3\n",
    "        axs[r, c].hist(pandas_df[col].dropna(), bins=20)\n",
    "        axs[r, c].set_xlabel(col)\n",
    "        axs[r, c].set_ylabel('Frequency')\n",
    "        axs[r, c].set_title(col)\n",
    "        plt.tight_layout()\n",
    "\n",
    "    # Show the plot\n",
    "    plt.show()\n"
   ]
  },
  {
   "cell_type": "code",
   "execution_count": 41,
   "id": "e76a50e6",
   "metadata": {},
   "outputs": [],
   "source": [
    "def boxplot(columns_list):\n",
    "    # Create a nxn grid of subplots\n",
    "    n =len(columns_list)//3\n",
    "   \n",
    "    fig, axes = plt.subplots(nrows=3, ncols=3 , figsize=(20,10))\n",
    "\n",
    "    # Loop through the columns and plot each one in a subplot\n",
    "    for i, col in enumerate(columns_list):\n",
    "        row = i // 3\n",
    "        c = i % 3\n",
    "        data = data_MSD.select(col).rdd.flatMap(lambda x: x).collect()\n",
    "        sns.boxplot(x=np.array(data), ax=axes[row][c])\n",
    "        axes[row][c].set_title(col)\n",
    "\n",
    "    # Adjust the spacing between the subplots\n",
    "    plt.tight_layout()\n",
    "    "
   ]
  },
  {
   "cell_type": "markdown",
   "id": "41149527",
   "metadata": {},
   "source": [
    "- Ploting Columns:"
   ]
  },
  {
   "cell_type": "code",
   "execution_count": 42,
   "id": "172452fd",
   "metadata": {},
   "outputs": [],
   "source": [
    "# Select only the numeric columns\n",
    "numerical_cols = ['duration', 'key', 'loudness', 'tempo', 'time_signature', \n",
    "            'song_hotttnesss', 'artist_hotttnesss', 'artist_familiarity', 'year']\n"
   ]
  },
  {
   "cell_type": "code",
   "execution_count": 131,
   "id": "24e31781",
   "metadata": {
    "scrolled": true
   },
   "outputs": [
    {
     "data": {
      "text/html": [
       "<div>\n",
       "<style scoped>\n",
       "    .dataframe tbody tr th:only-of-type {\n",
       "        vertical-align: middle;\n",
       "    }\n",
       "\n",
       "    .dataframe tbody tr th {\n",
       "        vertical-align: top;\n",
       "    }\n",
       "\n",
       "    .dataframe thead th {\n",
       "        text-align: right;\n",
       "    }\n",
       "</style>\n",
       "<table border=\"1\" class=\"dataframe\">\n",
       "  <thead>\n",
       "    <tr style=\"text-align: right;\">\n",
       "      <th></th>\n",
       "      <th>0</th>\n",
       "      <th>1</th>\n",
       "      <th>2</th>\n",
       "      <th>3</th>\n",
       "      <th>4</th>\n",
       "    </tr>\n",
       "  </thead>\n",
       "  <tbody>\n",
       "    <tr>\n",
       "      <th>summary</th>\n",
       "      <td>count</td>\n",
       "      <td>mean</td>\n",
       "      <td>stddev</td>\n",
       "      <td>min</td>\n",
       "      <td>max</td>\n",
       "    </tr>\n",
       "    <tr>\n",
       "      <th>artist_id</th>\n",
       "      <td>5647</td>\n",
       "      <td>None</td>\n",
       "      <td>None</td>\n",
       "      <td>AR00A6H1187FB5402A</td>\n",
       "      <td>ARZZRK91187B9A5CA5</td>\n",
       "    </tr>\n",
       "    <tr>\n",
       "      <th>song_id</th>\n",
       "      <td>5647</td>\n",
       "      <td>None</td>\n",
       "      <td>None</td>\n",
       "      <td>SOAAAQN12AB01856D3</td>\n",
       "      <td>SOZZWWW12A58A8146A</td>\n",
       "    </tr>\n",
       "    <tr>\n",
       "      <th>title</th>\n",
       "      <td>5647</td>\n",
       "      <td>1492.0</td>\n",
       "      <td>None</td>\n",
       "      <td>'Round the Wheel</td>\n",
       "      <td>Último Desejo</td>\n",
       "    </tr>\n",
       "    <tr>\n",
       "      <th>duration</th>\n",
       "      <td>5647</td>\n",
       "      <td>240.3382202471508</td>\n",
       "      <td>110.9057684345182</td>\n",
       "      <td>7.13098</td>\n",
       "      <td>1815.2224</td>\n",
       "    </tr>\n",
       "    <tr>\n",
       "      <th>key</th>\n",
       "      <td>5647</td>\n",
       "      <td>5.262440233752435</td>\n",
       "      <td>3.5362367741891516</td>\n",
       "      <td>0</td>\n",
       "      <td>11</td>\n",
       "    </tr>\n",
       "    <tr>\n",
       "      <th>loudness</th>\n",
       "      <td>5647</td>\n",
       "      <td>-10.021097401359217</td>\n",
       "      <td>5.169502868332286</td>\n",
       "      <td>-41.691</td>\n",
       "      <td>0.566</td>\n",
       "    </tr>\n",
       "    <tr>\n",
       "      <th>mode</th>\n",
       "      <td>5647</td>\n",
       "      <td>0.6936426421108554</td>\n",
       "      <td>0.4610207857236479</td>\n",
       "      <td>0</td>\n",
       "      <td>1</td>\n",
       "    </tr>\n",
       "    <tr>\n",
       "      <th>tempo</th>\n",
       "      <td>5647</td>\n",
       "      <td>123.43145792586034</td>\n",
       "      <td>34.8970277898824</td>\n",
       "      <td>0.0</td>\n",
       "      <td>262.828</td>\n",
       "    </tr>\n",
       "    <tr>\n",
       "      <th>time_signature</th>\n",
       "      <td>5647</td>\n",
       "      <td>3.6010270940322293</td>\n",
       "      <td>1.2369126463052709</td>\n",
       "      <td>0</td>\n",
       "      <td>7</td>\n",
       "    </tr>\n",
       "    <tr>\n",
       "      <th>song_hotttnesss</th>\n",
       "      <td>5647</td>\n",
       "      <td>0.342882408667966</td>\n",
       "      <td>0.2471995057133402</td>\n",
       "      <td>0.0</td>\n",
       "      <td>1.0</td>\n",
       "    </tr>\n",
       "    <tr>\n",
       "      <th>artist_hotttnesss</th>\n",
       "      <td>5647</td>\n",
       "      <td>0.40714332346916754</td>\n",
       "      <td>0.12732726254348992</td>\n",
       "      <td>0.0</td>\n",
       "      <td>1.0825026</td>\n",
       "    </tr>\n",
       "    <tr>\n",
       "      <th>artist_familiarity</th>\n",
       "      <td>5647</td>\n",
       "      <td>0.590898447625843</td>\n",
       "      <td>0.1505193688561236</td>\n",
       "      <td>0.0</td>\n",
       "      <td>1.0</td>\n",
       "    </tr>\n",
       "    <tr>\n",
       "      <th>year</th>\n",
       "      <td>5647</td>\n",
       "      <td>1851.8712781001345</td>\n",
       "      <td>226.85176234645726</td>\n",
       "      <td>1500.0</td>\n",
       "      <td>2010.0</td>\n",
       "    </tr>\n",
       "  </tbody>\n",
       "</table>\n",
       "</div>"
      ],
      "text/plain": [
       "                        0                    1                    2   \n",
       "summary             count                 mean               stddev  \\\n",
       "artist_id            5647                 None                 None   \n",
       "song_id              5647                 None                 None   \n",
       "title                5647               1492.0                 None   \n",
       "duration             5647    240.3382202471508    110.9057684345182   \n",
       "key                  5647    5.262440233752435   3.5362367741891516   \n",
       "loudness             5647  -10.021097401359217    5.169502868332286   \n",
       "mode                 5647   0.6936426421108554   0.4610207857236479   \n",
       "tempo                5647   123.43145792586034     34.8970277898824   \n",
       "time_signature       5647   3.6010270940322293   1.2369126463052709   \n",
       "song_hotttnesss      5647    0.342882408667966   0.2471995057133402   \n",
       "artist_hotttnesss    5647  0.40714332346916754  0.12732726254348992   \n",
       "artist_familiarity   5647    0.590898447625843   0.1505193688561236   \n",
       "year                 5647   1851.8712781001345   226.85176234645726   \n",
       "\n",
       "                                     3                   4  \n",
       "summary                            min                 max  \n",
       "artist_id           AR00A6H1187FB5402A  ARZZRK91187B9A5CA5  \n",
       "song_id             SOAAAQN12AB01856D3  SOZZWWW12A58A8146A  \n",
       "title                 'Round the Wheel       Último Desejo  \n",
       "duration                       7.13098           1815.2224  \n",
       "key                                  0                  11  \n",
       "loudness                       -41.691               0.566  \n",
       "mode                                 0                   1  \n",
       "tempo                              0.0             262.828  \n",
       "time_signature                       0                   7  \n",
       "song_hotttnesss                    0.0                 1.0  \n",
       "artist_hotttnesss                  0.0           1.0825026  \n",
       "artist_familiarity                 0.0                 1.0  \n",
       "year                            1500.0              2010.0  "
      ]
     },
     "execution_count": 131,
     "metadata": {},
     "output_type": "execute_result"
    }
   ],
   "source": [
    "#descripe numeric values of data set\n",
    "data_MSD.describe().toPandas().transpose()"
   ]
  },
  {
   "cell_type": "code",
   "execution_count": 132,
   "id": "aaf111bd",
   "metadata": {},
   "outputs": [
    {
     "data": {
      "image/png": "[encoded data removed]",
      "text/plain": [
       "<Figure size 2000x1000 with 9 Axes>"
      ]
     },
     "metadata": {},
     "output_type": "display_data"
    }
   ],
   "source": [
    "# Call the function of histogram and boxplot for the columns numeric functions\n",
    "plot_histograms(data_MSD, numerical_cols)"
   ]
  },
  {
   "cell_type": "code",
   "execution_count": 45,
   "id": "74d2d054",
   "metadata": {},
   "outputs": [],
   "source": [
    "#checkpoint\n",
    "data_MSD2 = data_MSD"
   ]
  },
  {
   "cell_type": "markdown",
   "id": "fdb700a0",
   "metadata": {},
   "source": [
    "#  Standardization : \n",
    "##### - Standardardizer method: "
   ]
  },
  {
   "cell_type": "code",
   "execution_count": 133,
   "id": "41501286",
   "metadata": {},
   "outputs": [],
   "source": [
    "# standardize a column with IQR method\n",
    "def standardize(df, column):\n",
    "    lower, upper = 0.5, 0.75\n",
    "    split_udf = udf(lambda x: float(list(x)[0].item()), DoubleType())\n",
    "    \n",
    "    # Create a VectorAssembler\n",
    "    assembler = VectorAssembler(inputCols=[column], outputCol='temp')\n",
    "    \n",
    "    # Assemble the vector to the dataframe\n",
    "    df = assembler.transform(df)\n",
    "    \n",
    "    # Define the RobustScaler\n",
    "    scaler = RobustScaler(inputCol='temp', outputCol='stndr', withScaling=True, withCentering=False, lower=lower, upper=upper)\n",
    "    \n",
    "    # Compute summary statistics by fitting the RobustScaler\n",
    "    scalerModel = scaler.fit(df)\n",
    "    \n",
    "    # Transform each column to have the unit quantile range\n",
    "    df = scalerModel.transform(df)\n",
    "    \n",
    "    # Drop the created columns and substitute with the old column\n",
    "    df = df.drop(column, 'temp')\n",
    "    df = df.withColumn('stndr', split_udf(col('stndr')))\n",
    "    df = df.withColumnRenamed('stndr', column)\n",
    "    print(\"standardized : \", column)\n",
    "    \n",
    "    return df\n"
   ]
  },
  {
   "cell_type": "markdown",
   "id": "25e9bb21",
   "metadata": {},
   "source": []
  },
  {
   "cell_type": "markdown",
   "id": "f7e3c957",
   "metadata": {},
   "source": [
    "##### Standardize following features:\n",
    "\n"
   ]
  },
  {
   "cell_type": "code",
   "execution_count": 134,
   "id": "6d86a925",
   "metadata": {},
   "outputs": [
    {
     "name": "stdout",
     "output_type": "stream",
     "text": [
      "standardized :  duration\n",
      "standardized :  loudness\n",
      "standardized :  tempo\n",
      "standardized :  song_hotttnesss\n",
      "standardized :  artist_hotttnesss\n",
      "standardized :  artist_familiarity\n"
     ]
    }
   ],
   "source": [
    "numeric_columns = ['duration', 'loudness', 'tempo', 'song_hotttnesss', 'artist_hotttnesss', 'artist_familiarity']\n",
    "standardized_df = data_MSD\n",
    "\n",
    "for numeric_col in numeric_columns:\n",
    "    standardized_df = standardize(standardized_df, numeric_col)"
   ]
  },
  {
   "cell_type": "markdown",
   "id": "04950c8d",
   "metadata": {},
   "source": [
    " #### Changes after Standardization: "
   ]
  },
  {
   "cell_type": "code",
   "execution_count": 135,
   "id": "725b7c7f",
   "metadata": {},
   "outputs": [
    {
     "data": {
      "image/png": "[encoded data removed]",
      "text/plain": [
       "<Figure size 2000x1000 with 9 Axes>"
      ]
     },
     "metadata": {},
     "output_type": "display_data"
    },
    {
     "data": {
      "text/html": [
       "<div>\n",
       "<style scoped>\n",
       "    .dataframe tbody tr th:only-of-type {\n",
       "        vertical-align: middle;\n",
       "    }\n",
       "\n",
       "    .dataframe tbody tr th {\n",
       "        vertical-align: top;\n",
       "    }\n",
       "\n",
       "    .dataframe thead th {\n",
       "        text-align: right;\n",
       "    }\n",
       "</style>\n",
       "<table border=\"1\" class=\"dataframe\">\n",
       "  <thead>\n",
       "    <tr style=\"text-align: right;\">\n",
       "      <th></th>\n",
       "      <th>0</th>\n",
       "      <th>1</th>\n",
       "      <th>2</th>\n",
       "      <th>3</th>\n",
       "      <th>4</th>\n",
       "    </tr>\n",
       "  </thead>\n",
       "  <tbody>\n",
       "    <tr>\n",
       "      <th>summary</th>\n",
       "      <td>count</td>\n",
       "      <td>mean</td>\n",
       "      <td>stddev</td>\n",
       "      <td>min</td>\n",
       "      <td>max</td>\n",
       "    </tr>\n",
       "    <tr>\n",
       "      <th>artist_id</th>\n",
       "      <td>5647</td>\n",
       "      <td>None</td>\n",
       "      <td>None</td>\n",
       "      <td>AR00A6H1187FB5402A</td>\n",
       "      <td>ARZZRK91187B9A5CA5</td>\n",
       "    </tr>\n",
       "    <tr>\n",
       "      <th>song_id</th>\n",
       "      <td>5647</td>\n",
       "      <td>None</td>\n",
       "      <td>None</td>\n",
       "      <td>SOAAAQN12AB01856D3</td>\n",
       "      <td>SOZZWWW12A58A8146A</td>\n",
       "    </tr>\n",
       "    <tr>\n",
       "      <th>title</th>\n",
       "      <td>5647</td>\n",
       "      <td>1492.0</td>\n",
       "      <td>None</td>\n",
       "      <td>'Round the Wheel</td>\n",
       "      <td>Último Desejo</td>\n",
       "    </tr>\n",
       "    <tr>\n",
       "      <th>key</th>\n",
       "      <td>5647</td>\n",
       "      <td>5.262440233752435</td>\n",
       "      <td>3.5362367741891516</td>\n",
       "      <td>0</td>\n",
       "      <td>11</td>\n",
       "    </tr>\n",
       "    <tr>\n",
       "      <th>mode</th>\n",
       "      <td>5647</td>\n",
       "      <td>0.6936426421108554</td>\n",
       "      <td>0.4610207857236479</td>\n",
       "      <td>0</td>\n",
       "      <td>1</td>\n",
       "    </tr>\n",
       "    <tr>\n",
       "      <th>time_signature</th>\n",
       "      <td>5647</td>\n",
       "      <td>3.6010270940322293</td>\n",
       "      <td>1.2369126463052709</td>\n",
       "      <td>0</td>\n",
       "      <td>7</td>\n",
       "    </tr>\n",
       "    <tr>\n",
       "      <th>year</th>\n",
       "      <td>5647</td>\n",
       "      <td>1851.8712781001345</td>\n",
       "      <td>226.85176234645726</td>\n",
       "      <td>1500.0</td>\n",
       "      <td>2010.0</td>\n",
       "    </tr>\n",
       "    <tr>\n",
       "      <th>duration</th>\n",
       "      <td>5647</td>\n",
       "      <td>4.708518904892566</td>\n",
       "      <td>2.1727792891141573</td>\n",
       "      <td>0.13970459702819468</td>\n",
       "      <td>35.56242130449496</td>\n",
       "    </tr>\n",
       "    <tr>\n",
       "      <th>loudness</th>\n",
       "      <td>5647</td>\n",
       "      <td>-3.787262260841289</td>\n",
       "      <td>1.9537045032503302</td>\n",
       "      <td>-15.756234248472492</td>\n",
       "      <td>0.213907748422482</td>\n",
       "    </tr>\n",
       "    <tr>\n",
       "      <th>tempo</th>\n",
       "      <td>5647</td>\n",
       "      <td>4.956489520575855</td>\n",
       "      <td>1.4013182331824183</td>\n",
       "      <td>0.0</td>\n",
       "      <td>10.55406996016649</td>\n",
       "    </tr>\n",
       "    <tr>\n",
       "      <th>song_hotttnesss</th>\n",
       "      <td>5647</td>\n",
       "      <td>1.9357306985328562</td>\n",
       "      <td>1.395556201703055</td>\n",
       "      <td>0.0</td>\n",
       "      <td>5.645465178726457</td>\n",
       "    </tr>\n",
       "    <tr>\n",
       "      <th>artist_hotttnesss</th>\n",
       "      <td>5647</td>\n",
       "      <td>5.705601190112813</td>\n",
       "      <td>1.7843313124032063</td>\n",
       "      <td>0.0</td>\n",
       "      <td>15.16991139724231</td>\n",
       "    </tr>\n",
       "    <tr>\n",
       "      <th>artist_familiarity</th>\n",
       "      <td>5647</td>\n",
       "      <td>6.029070573819</td>\n",
       "      <td>1.535783181029586</td>\n",
       "      <td>0.0</td>\n",
       "      <td>10.203226287093939</td>\n",
       "    </tr>\n",
       "  </tbody>\n",
       "</table>\n",
       "</div>"
      ],
      "text/plain": [
       "                        0                   1                   2   \n",
       "summary             count                mean              stddev  \\\n",
       "artist_id            5647                None                None   \n",
       "song_id              5647                None                None   \n",
       "title                5647              1492.0                None   \n",
       "key                  5647   5.262440233752435  3.5362367741891516   \n",
       "mode                 5647  0.6936426421108554  0.4610207857236479   \n",
       "time_signature       5647  3.6010270940322293  1.2369126463052709   \n",
       "year                 5647  1851.8712781001345  226.85176234645726   \n",
       "duration             5647   4.708518904892566  2.1727792891141573   \n",
       "loudness             5647  -3.787262260841289  1.9537045032503302   \n",
       "tempo                5647   4.956489520575855  1.4013182331824183   \n",
       "song_hotttnesss      5647  1.9357306985328562   1.395556201703055   \n",
       "artist_hotttnesss    5647   5.705601190112813  1.7843313124032063   \n",
       "artist_familiarity   5647      6.029070573819   1.535783181029586   \n",
       "\n",
       "                                      3                   4  \n",
       "summary                             min                 max  \n",
       "artist_id            AR00A6H1187FB5402A  ARZZRK91187B9A5CA5  \n",
       "song_id              SOAAAQN12AB01856D3  SOZZWWW12A58A8146A  \n",
       "title                  'Round the Wheel       Último Desejo  \n",
       "key                                   0                  11  \n",
       "mode                                  0                   1  \n",
       "time_signature                        0                   7  \n",
       "year                             1500.0              2010.0  \n",
       "duration            0.13970459702819468   35.56242130449496  \n",
       "loudness            -15.756234248472492   0.213907748422482  \n",
       "tempo                               0.0   10.55406996016649  \n",
       "song_hotttnesss                     0.0   5.645465178726457  \n",
       "artist_hotttnesss                   0.0   15.16991139724231  \n",
       "artist_familiarity                  0.0  10.203226287093939  "
      ]
     },
     "execution_count": 135,
     "metadata": {},
     "output_type": "execute_result"
    }
   ],
   "source": [
    "# Select only the numeric columns\n",
    "numerical_cols = ['duration', 'key', 'loudness', 'tempo', 'time_signature', \n",
    "            'song_hotttnesss', 'artist_hotttnesss', 'artist_familiarity', 'year']\n",
    "# Call the function\n",
    "plot_histograms(standardized_df, numerical_cols)\n",
    "# describe the dataset\n",
    "standardized_df.describe().toPandas().T"
   ]
  },
  {
   "cell_type": "markdown",
   "id": "e1cf2ea8",
   "metadata": {},
   "source": [
    "#### 1.3.5 Store the scaled MSD dataset to a csv file"
   ]
  },
  {
   "cell_type": "code",
   "execution_count": 136,
   "id": "c6e1e885",
   "metadata": {},
   "outputs": [],
   "source": [
    "#data_MSD_scaled.write.mode(\"overwrite\").csv('data_MSD_scaled.csv') error\n",
    "#data_MSD_scaled.toPandas().to_csv(\"data_MSD_scaled1.csv\", header=True)\n",
    "\n",
    "msd_data= standardized_df"
   ]
  },
  {
   "cell_type": "markdown",
   "id": "8c56b74a",
   "metadata": {},
   "source": [
    "- Prepare the data\n",
    "  - add index column instead of sring type columns"
   ]
  },
  {
   "cell_type": "code",
   "execution_count": 137,
   "id": "b100a524",
   "metadata": {},
   "outputs": [
    {
     "name": "stdout",
     "output_type": "stream",
     "text": [
      "Number of unique values for each column, \n",
      "the total count is 5647\n",
      " \n",
      "artist_id 2770\n",
      "song_id 5647\n",
      "title 5540\n"
     ]
    }
   ],
   "source": [
    "#to add index need to know the number of unique data in columns\n",
    "unique_data(msd_data, [\"artist_id\", \"song_id\", \"title\"])"
   ]
  },
  {
   "cell_type": "code",
   "execution_count": 138,
   "id": "b54cd44a",
   "metadata": {},
   "outputs": [],
   "source": [
    "#Add index column for string column\n",
    "# Since artist Id is not unique \n",
    "#Create a window specification to define the partitioning and ordering\n",
    "window_spec = Window.orderBy('artist_id')\n",
    "# Add a new column with the assigned index\n",
    "msd_data = msd_data.withColumn('artist_index',dense_rank().over(window_spec))\n",
    "\n",
    "# Add a new column with the assigned index\n",
    "msd_data = msd_data.withColumn(\"song_index\", monotonically_increasing_id())\n",
    "\n",
    "# Convert title column to categorical feature\n",
    "indexer_title = StringIndexer(inputCol='title', outputCol='title_indexed')\n",
    "msd_data = indexer_title.fit(msd_data).transform(msd_data)"
   ]
  },
  {
   "cell_type": "code",
   "execution_count": 140,
   "id": "c655d863",
   "metadata": {},
   "outputs": [
    {
     "name": "stdout",
     "output_type": "stream",
     "text": [
      "standardized :  title_indexed\n"
     ]
    }
   ],
   "source": [
    "msd_data = standardize(msd_data, 'title_indexed')"
   ]
  },
  {
   "cell_type": "code",
   "execution_count": 149,
   "id": "fd3cb299",
   "metadata": {},
   "outputs": [
    {
     "data": {
      "text/plain": [
       "['song_id',\n",
       " 'key',\n",
       " 'mode',\n",
       " 'time_signature',\n",
       " 'year',\n",
       " 'duration',\n",
       " 'loudness',\n",
       " 'tempo',\n",
       " 'song_hotttnesss',\n",
       " 'artist_hotttnesss',\n",
       " 'artist_familiarity',\n",
       " 'artist_id',\n",
       " 'song_index',\n",
       " 'title_indexed']"
      ]
     },
     "execution_count": 149,
     "metadata": {},
     "output_type": "execute_result"
    }
   ],
   "source": [
    "msd_data.columns"
   ]
  },
  {
   "cell_type": "markdown",
   "id": "d5edd7d9",
   "metadata": {},
   "source": [
    "### Feature Importance based on songId\n",
    "\n",
    "If you have a unique identifier for each song in your database (e.g., song_id), then it's true that the feature importance based on song_id alone may not be meaningful because it doesn't capture any variability in the data. However, there might still be other features in the dataset that can be used to determine the importance or relevance of a song. Therefore all the dataset will be stored."
   ]
  },
  {
   "cell_type": "code",
   "execution_count": 147,
   "id": "28e01b7d",
   "metadata": {},
   "outputs": [],
   "source": [
    "\n",
    "def calculate_feature_importance(features, label, data):\n",
    "    # Create a VectorAssembler to assemble the features into a vector column\n",
    "    assembler = VectorAssembler(inputCols=features, outputCol='feature_vector')\n",
    "    data = assembler.transform(data)\n",
    "\n",
    "\n",
    "\n",
    "    # Create a RandomForestRegressor model\n",
    "    rf = RandomForestRegressor(featuresCol='feature_vector', labelCol= label)\n",
    "\n",
    "    # Fit the model to the data\n",
    "    model = rf.fit(data)\n",
    "\n",
    "    # Retrieve the feature importances\n",
    "    importance = model.featureImportances\n",
    "\n",
    "    # Create a dictionary to store the feature importance values\n",
    "    feature_importance = {}\n",
    "\n",
    "    # Retrieve the feature names and importance values\n",
    "    feature_names = features\n",
    "    for i, feature in enumerate(feature_names):\n",
    "        feature_importance[feature] = importance[i]\n",
    "\n",
    "    # Sort the features based on their importance\n",
    "    sorted_importance = sorted(feature_importance.items(), key=lambda x: x[1], reverse=True)\n",
    "\n",
    "    # Print the sorted list of features and their importance\n",
    "    for feature, imp in sorted_importance:\n",
    "        print(f\"Feature: {feature}, Importance: {imp}\")\n",
    "    "
   ]
  },
  {
   "cell_type": "code",
   "execution_count": 151,
   "id": "9e9cf1ab",
   "metadata": {},
   "outputs": [
    {
     "name": "stdout",
     "output_type": "stream",
     "text": [
      "Feature: artist_id, Importance: 0.9764319657355097\n",
      "Feature: artist_familiarity, Importance: 0.004342433782181059\n",
      "Feature: artist_hotttnesss, Importance: 0.004274890890492771\n",
      "Feature: duration, Importance: 0.002788009738998462\n",
      "Feature: loudness, Importance: 0.0022206113309666997\n",
      "Feature: year, Importance: 0.002157770116204075\n",
      "Feature: title_indexed, Importance: 0.0018255865248493013\n",
      "Feature: song_hotttnesss, Importance: 0.0017146023452299555\n",
      "Feature: tempo, Importance: 0.0014180619051023266\n",
      "Feature: time_signature, Importance: 0.0013738319114107744\n",
      "Feature: key, Importance: 0.001054470183634999\n",
      "Feature: mode, Importance: 0.0003977655354199922\n"
     ]
    }
   ],
   "source": [
    "features= ['key', 'mode','time_signature', 'year', 'duration', 'loudness', 'tempo', 'artist_hotttnesss',\n",
    " 'artist_familiarity', 'artist_id', 'title_indexed','song_hotttnesss']\n",
    "\n",
    "calculate_feature_importance(features, 'song_index', msd_data)"
   ]
  },
  {
   "cell_type": "markdown",
   "id": "894682a1",
   "metadata": {},
   "source": [
    "### store data"
   ]
  },
  {
   "cell_type": "code",
   "execution_count": 153,
   "id": "177ad644",
   "metadata": {},
   "outputs": [],
   "source": [
    "# Specify the output path for the CSV files\n",
    "output_path = 'Million_Song_data.csv'\n",
    "\n",
    "# Coalesce the DataFrame to a single partition to minimize the number of output files\n",
    "msd_df = msd_data.coalesce(1)\n",
    "\n",
    "# Write the coalesced DataFrame to a CSV file\n",
    "msd_df.write.csv(output_path, header=True, mode='overwrite')\n"
   ]
  },
  {
   "cell_type": "code",
   "execution_count": null,
   "id": "a1b7bea2",
   "metadata": {},
   "outputs": [],
   "source": []
  }
 ],
 "metadata": {
  "kernelspec": {
   "display_name": "Python 3 (ipykernel)",
   "language": "python",
   "name": "python3"
  },
  "language_info": {
   "codemirror_mode": {
    "name": "ipython",
    "version": 3
   },
   "file_extension": ".py",
   "mimetype": "text/x-python",
   "name": "python",
   "nbconvert_exporter": "python",
   "pygments_lexer": "ipython3",
   "version": "3.9.16"
  }
 },
 "nbformat": 4,
 "nbformat_minor": 5
}
