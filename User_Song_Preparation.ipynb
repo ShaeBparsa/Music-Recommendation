{
 "cells": [
  {
   "cell_type": "markdown",
   "id": "b2912bd1",
   "metadata": {},
   "source": [
    "                                    Music Recommendation System"
   ]
  },
  {
   "cell_type": "markdown",
   "id": "c0c8b9af",
   "metadata": {},
   "source": [
    "### Dataset: \n",
    "\n",
    "Datasets: \n",
    "    \n",
    " Implicit rating of 1million User(number of time a song played): http://millionsongdataset.com/tasteprofile/\n",
    "\n",
    "#### Packages: "
   ]
  },
  {
   "cell_type": "code",
   "execution_count": 1,
   "id": "11cf7ed4",
   "metadata": {},
   "outputs": [],
   "source": [
    "import numpy as np\n",
    "import os\n",
    "import fnmatch\n",
    "import sys\n",
    "\n",
    "import matplotlib\n",
    "import matplotlib.pyplot as plt\n",
    "import seaborn as sns\n",
    "from pyspark.ml.feature import Bucketizer\n",
    "from pyspark.sql import SparkSession, Row\n",
    "from pyspark.sql.types import *\n",
    "from pyspark.ml.feature import MinMaxScaler, VectorAssembler, RobustScaler, StandardScaler\n",
    "from pyspark.ml import Pipeline\n",
    "from pyspark.sql.functions import udf, col, isnan, when, count, sum, mean, rand\n",
    "from pyspark_dist_explore import hist\n",
    "\n",
    "from pyspark.ml.feature import StringIndexer\n",
    "from pyspark.sql.functions import row_number, monotonically_increasing_id\n",
    "from pyspark.sql.window import Window\n",
    "from pyspark.sql.functions import rank, avg, approx_count_distinct, floor, dense_rank\n",
    "\n",
    "import findspark\n",
    "import pyspark.sql.functions as F\n",
    "from pyspark.sql.types import ArrayType, DoubleType\n",
    "\n",
    "from pyspark.sql.functions import  expr\n"
   ]
  },
  {
   "cell_type": "markdown",
   "id": "bf5fcc4d",
   "metadata": {},
   "source": [
    "#### Create spark cluster: "
   ]
  },
  {
   "cell_type": "code",
   "execution_count": 2,
   "id": "b454e4b5",
   "metadata": {},
   "outputs": [],
   "source": [
    "findspark.init()"
   ]
  },
  {
   "cell_type": "code",
   "execution_count": 3,
   "id": "4bd9844d",
   "metadata": {},
   "outputs": [],
   "source": [
    "# Create a SparkSession with the specified application name\n",
    "# Configure the executor memory to allocate 10 gigabytes of memory to each executor\n",
    "# Configure the driver memory to allocate 6 gigabytes of memory to the driver program\n",
    "# Get or create the SparkSession\n",
    "\n",
    "spark = SparkSession.builder \\\n",
    "    .appName(\"train_triplets\") \\\n",
    "    .config(\"spark.executor.memory\", \"10g\") \\\n",
    "    .config(\"spark.driver.memory\", \"6g\") \\\n",
    "    .getOrCreate()\n",
    "\n"
   ]
  },
  {
   "cell_type": "code",
   "execution_count": 4,
   "id": "5b826630",
   "metadata": {},
   "outputs": [],
   "source": [
    "data_path = 'train_triplets.txt'"
   ]
  },
  {
   "cell_type": "code",
   "execution_count": 5,
   "id": "fb38cd6c",
   "metadata": {},
   "outputs": [],
   "source": [
    "# define schema, nullable is set true\n",
    "schema = StructType([\n",
    "    StructField('userId', StringType(), True),\n",
    "    StructField('songId', StringType(), True),\n",
    "    StructField('play_count', IntegerType(), True)])"
   ]
  },
  {
   "cell_type": "markdown",
   "id": "b8c63467",
   "metadata": {},
   "source": [
    "####  Reading Datasets: "
   ]
  },
  {
   "cell_type": "code",
   "execution_count": 6,
   "id": "4d40a71d",
   "metadata": {},
   "outputs": [],
   "source": [
    "# Read the csv file, each coloumn is divided by a tab (from csv into a spark dataframe)\n",
    "data_user_song_rating_full = spark.read.option(\"delimiter\", \"\\t\").schema(schema).csv(data_path)"
   ]
  },
  {
   "cell_type": "code",
   "execution_count": 7,
   "id": "057b667b",
   "metadata": {},
   "outputs": [
    {
     "data": {
      "text/plain": [
       "['userId', 'songId', 'play_count']"
      ]
     },
     "execution_count": 7,
     "metadata": {},
     "output_type": "execute_result"
    }
   ],
   "source": [
    "data_user_song_rating_full.columns"
   ]
  },
  {
   "cell_type": "code",
   "execution_count": 8,
   "id": "1515b6c4",
   "metadata": {},
   "outputs": [
    {
     "data": {
      "text/plain": [
       "DataFrame[userId: string, songId: string, play_count: int]"
      ]
     },
     "execution_count": 8,
     "metadata": {},
     "output_type": "execute_result"
    }
   ],
   "source": [
    "data_user_song_rating_full.persist()"
   ]
  },
  {
   "cell_type": "code",
   "execution_count": 36,
   "id": "a578ecf2",
   "metadata": {
    "scrolled": true
   },
   "outputs": [
    {
     "name": "stdout",
     "output_type": "stream",
     "text": [
      "+-------+--------------------+------------------+-----------------+\n",
      "|summary|              userId|            songId|       play_count|\n",
      "+-------+--------------------+------------------+-----------------+\n",
      "|  count|            48373586|          48373586|         48373586|\n",
      "|   mean|                null|              null|2.866858847305635|\n",
      "| stddev|                null|              null|6.437724686877057|\n",
      "|    min|00000b72200188206...|SOAAADD12AB018A9DD|                1|\n",
      "|    max|fffff9534445f481b...|SOZZZWN12AF72A1E29|             9667|\n",
      "+-------+--------------------+------------------+-----------------+\n",
      "\n"
     ]
    }
   ],
   "source": [
    "data_user_song_rating_full.describe().show()"
   ]
  },
  {
   "cell_type": "markdown",
   "id": "12ec528f",
   "metadata": {},
   "source": [
    "check \n",
    "- missing values in each column\n",
    "- duplicate in combination of userId and SongId\n",
    " \n"
   ]
  },
  {
   "cell_type": "markdown",
   "id": "c4e7df76",
   "metadata": {},
   "source": [
    "Check, missing values in each column:"
   ]
  },
  {
   "cell_type": "code",
   "execution_count": null,
   "id": "10256d8e",
   "metadata": {},
   "outputs": [],
   "source": [
    "#from pyspark.sql.functions import col, count, isnan, when\n",
    "def column_with_missing_value(df):\n",
    "    # Create a list of expressions to check for null, NaN, empty strings, 'None', and 'NULL' values\n",
    "    null_exprs = [count(when(col(c).isNull() | isnan(c) | (col(c) == '') | \n",
    "                         col(c).isin(['None', 'NULL']), c)).alias(c) for c in df.columns]\n",
    "\n",
    "    # Apply the expressions to the DataFrame\n",
    "    ps_df = df.select(null_exprs)\n",
    "\n",
    "    # Create a list of columns with missing values\n",
    "    cols_with_missing_values = [c for c in ps_df.columns if ps_df.select(c).first()[0] > 0]\n",
    "\n",
    "    # Select only those columns with missing values\n",
    "    ps_df.select(cols_with_missing_values).show()"
   ]
  },
  {
   "cell_type": "code",
   "execution_count": 22,
   "id": "22b73d28",
   "metadata": {},
   "outputs": [
    {
     "name": "stdout",
     "output_type": "stream",
     "text": [
      "++\n",
      "||\n",
      "++\n",
      "||\n",
      "++\n",
      "\n"
     ]
    }
   ],
   "source": [
    "# missing values\n",
    "column_with_missing_value(data_user_song_rating_full)"
   ]
  },
  {
   "cell_type": "markdown",
   "id": "48c710cd",
   "metadata": {},
   "source": [
    "There is no missing values in the columns.\n",
    "\n",
    "Check, Duplicate in combination of userId and SongId:"
   ]
  },
  {
   "cell_type": "code",
   "execution_count": 38,
   "id": "68e08c7f",
   "metadata": {},
   "outputs": [],
   "source": [
    "# group the data by userId and songId, and count the number of times each song was played by a user\n",
    "# count the number of rows where count is greater than 1 : should be zero\n",
    "#data_imp_rating_full.groupBy(['userId', 'songId']).count().filter('count > 1').count()"
   ]
  },
  {
   "cell_type": "code",
   "execution_count": null,
   "id": "a288d350",
   "metadata": {},
   "outputs": [],
   "source": [
    "#There is no duplication in case of ['userId', 'songId']."
   ]
  },
  {
   "cell_type": "markdown",
   "id": "39250396",
   "metadata": {},
   "source": [
    "###### Check point dataset and persist"
   ]
  },
  {
   "cell_type": "code",
   "execution_count": 9,
   "id": "a4add76b",
   "metadata": {},
   "outputs": [],
   "source": [
    "data_filtered = data_user_song_rating_full"
   ]
  },
  {
   "cell_type": "code",
   "execution_count": 10,
   "id": "594397c6",
   "metadata": {},
   "outputs": [
    {
     "data": {
      "text/plain": [
       "DataFrame[userId: string, songId: string, play_count: int]"
      ]
     },
     "execution_count": 10,
     "metadata": {},
     "output_type": "execute_result"
    }
   ],
   "source": [
    "data_filtered.persist()"
   ]
  },
  {
   "cell_type": "markdown",
   "id": "cdecd680",
   "metadata": {},
   "source": [
    "### In order to split data to train and test we need to clean and filter our data:"
   ]
  },
  {
   "cell_type": "markdown",
   "id": "cdef3b50",
   "metadata": {},
   "source": [
    "#### Part 1: Cleaning and Filtering\n",
    "- The dataset should contain information about the user, song, and play count:\n",
    "- Play count:\n",
    "  - The play count is represent the number of times a user has played a particular song.\n",
    "  - No play count should be equal to 1.\n",
    "  - Play count should be checked for anomalies and outliers\n",
    "  \n",
    "- Song Id:\n",
    "  - No SongId should appear in the dataset only once.\n",
    "  \n",
    "- user Id: \n",
    "  - Each user should have at least 6 songs.\n",
    "  \n",
    "\n",
    "#### Part 2: Split Data Set to Train and Test Set\n",
    "- Each user should have listened to at least 6 songs.( already done in part 1)\n",
    "- The dataset should be split into training and test sets, with 80% of each user's songs in the training set and 20% in the test set. all users should be in bot train and test data sets.\n",
    "- Each user \n",
    "\n",
    "#### Part 3: Store Train and Test data Sets as Csv file"
   ]
  },
  {
   "cell_type": "markdown",
   "id": "4ec187ca",
   "metadata": {},
   "source": [
    "##  Part 1"
   ]
  },
  {
   "cell_type": "markdown",
   "id": "253ab911",
   "metadata": {},
   "source": [
    "##         Play Count Column"
   ]
  },
  {
   "cell_type": "markdown",
   "id": "be5259d2",
   "metadata": {},
   "source": [
    "- define some functions:"
   ]
  },
  {
   "cell_type": "code",
   "execution_count": 15,
   "id": "46b74632",
   "metadata": {},
   "outputs": [],
   "source": [
    "#\n",
    "def plot_play_count(data_filtered, lower_range, sample_fraction=0.1):\n",
    "    # Sample a subset of data for boxplot\n",
    "    data_boxplot = data_filtered.select('play_count').sample(False, sample_fraction).collect()\n",
    "    data_boxplot = [row['play_count'] for row in data_boxplot]\n",
    "\n",
    "    # Sample a subset of data for histogram\n",
    "    data_histogram = data_filtered.filter(f'play_count > {lower_range}').select('play_count').sample(False, sample_fraction).collect()\n",
    "    data_histogram = [row['play_count'] for row in data_histogram]\n",
    "\n",
    "    # Create a figure with two subplots\n",
    "    fig, axs = plt.subplots(nrows=1, ncols=2, figsize=(12, 6))\n",
    "\n",
    "    # Plot the boxplot in the first subplot\n",
    "    sns.boxplot(x=np.array(data_boxplot), ax=axs[0])\n",
    "    axs[0].set_title('play_count')\n",
    "\n",
    "    # Plot the histogram in the second subplot\n",
    "    axs[1].hist(data_histogram, bins=100)\n",
    "    axs[1].set_xlabel('Play Count')\n",
    "    axs[1].set_ylabel('Frequency')\n",
    "    axs[1].set_title('Histogram of Play Count')\n",
    "\n",
    "    # Display the plot\n",
    "    plt.show()\n",
    "\n"
   ]
  },
  {
   "cell_type": "code",
   "execution_count": 16,
   "id": "b58aacad",
   "metadata": {},
   "outputs": [],
   "source": [
    "#\n",
    "def plot_play_count_histogram(data_filtered, bucket_splits):\n",
    "    # Define the bucketizer\n",
    "    bucketizer = bucketizer = Bucketizer(splits=bucket_splits, inputCol=\"play_count\", outputCol=\"bucket\")\n",
    "    \n",
    "    # Transform the data to bucketized form\n",
    "    data_filtered_buck = bucketizer.transform(data_filtered)\n",
    "    \n",
    "    # Group by bucket and count the occurrences\n",
    "    counts = data_filtered_buck.groupBy('bucket').count().orderBy('bucket').collect()\n",
    "    \n",
    "    # Create a list of labels for the x-axis ticks\n",
    "    labels = ['{}-{}'.format(int(bucket_splits[i]), int(bucket_splits[i+1])) if i < len(bucket_splits)-1 else '{}+'.format(int(bucket_splits[i])) for i in range(len(bucket_splits)-1)]\n",
    "    \n",
    "    # Plot the histogram with labeled buckets\n",
    "    plt.bar(range(len(counts)), [row['count'] for row in counts])\n",
    "    plt.xlabel('Play count buckets')\n",
    "    plt.ylabel('Frequency')\n",
    "    plt.xticks(range(len(counts)), labels, rotation=45, ha='right')\n",
    "    plt.show()\n",
    "    \n"
   ]
  },
  {
   "cell_type": "code",
   "execution_count": 17,
   "id": "0e202b03",
   "metadata": {},
   "outputs": [],
   "source": [
    "def IQR(df, column, n):\n",
    "    # Calculate the quartiles, median, and IQR\n",
    "    data_filtered = df\n",
    "    quantiles = data_filtered.approxQuantile(column, [0.25, 0.5, 0.75], 0.05)\n",
    "    q1 = quantiles[0]\n",
    "    median = quantiles[1]\n",
    "    q3 = quantiles[2]\n",
    "    iqr = q3 - q1\n",
    "\n",
    "    # Calculate the upper and lower bounds for outliers\n",
    "    lower_bound = q1 - n * iqr\n",
    "    upper_bound = q3 + n * iqr\n",
    "\n",
    "    # Filter out the outliers\n",
    "    outliers = data_filtered.filter((col(column) < lower_bound) | (col(column) > upper_bound))\n",
    "    \n",
    "    # Return the result\n",
    "    return q1, median, q3, iqr, lower_bound, upper_bound\n",
    "\n",
    "\n",
    "\n",
    "def print_IQR_related_values(df, column, n):\n",
    "    \n",
    "    q1, median, q3, iqr, lower_bound, upper_bound = IQR(df, column, n)\n",
    "    \n",
    "    print(\"\\nThe following values represent the Interquartile Range (IQR),\")\n",
    "    print(\"based on the number of standard deviations {n} used for determining the bounds:\", {n})\n",
    "    print(\"\\n\")\n",
    "    print('Q1:', q1)\n",
    "    print('Median:', median)\n",
    "    print('Q3:', q3)\n",
    "    print('IQR:', iqr)\n",
    "    print('Lower bound:', lower_bound)\n",
    "    print('Upper bound:', upper_bound)"
   ]
  },
  {
   "cell_type": "markdown",
   "id": "f2d52439",
   "metadata": {},
   "source": [
    "#### Eliminate the Outliers based on upper_bound"
   ]
  },
  {
   "cell_type": "code",
   "execution_count": 18,
   "id": "e3040bd0",
   "metadata": {},
   "outputs": [],
   "source": [
    "def filter_by_iqr(df, column, k):\n",
    "    # Calculate the IQR\n",
    "    q1, median, q3, iqr, lower_bound, upper_bound= IQR(df,\"play_count\",k)\n",
    "\n",
    "    # Filter the DataFrame\n",
    "    filtered_df = df.filter(col(column) <= upper_bound)\n",
    "    print('Filter the DataFrame based on IQR :')\n",
    "    print('upper_bound number of standard deviations used for determining the bounds = ',k)\n",
    "    \n",
    "    return filtered_df"
   ]
  },
  {
   "cell_type": "markdown",
   "id": "6b09d35b",
   "metadata": {},
   "source": [
    "##### No play count should be equal to 1."
   ]
  },
  {
   "cell_type": "code",
   "execution_count": 19,
   "id": "8ececaa6",
   "metadata": {},
   "outputs": [],
   "source": [
    "# No play count should be equal to 1.\n",
    "data_filtered = data_filtered.filter('play_count > 1')"
   ]
  },
  {
   "cell_type": "code",
   "execution_count": 20,
   "id": "c1dccdb1",
   "metadata": {},
   "outputs": [
    {
     "data": {
      "text/plain": [
       "19617620"
      ]
     },
     "execution_count": 20,
     "metadata": {},
     "output_type": "execute_result"
    }
   ],
   "source": [
    "#show the count of data\n",
    "data_filtered.count()"
   ]
  },
  {
   "cell_type": "code",
   "execution_count": 21,
   "id": "996528ca",
   "metadata": {
    "scrolled": true
   },
   "outputs": [
    {
     "data": {
      "text/plain": [
       "DataFrame[userId: string, songId: string, play_count: int]"
      ]
     },
     "execution_count": 21,
     "metadata": {},
     "output_type": "execute_result"
    }
   ],
   "source": [
    "#Persisting a dataset means caching it in memory or on disk\n",
    "data_filtered.persist()"
   ]
  },
  {
   "cell_type": "markdown",
   "id": "ba22b327",
   "metadata": {},
   "source": [
    "##### Finding  outliers and anomalies "
   ]
  },
  {
   "cell_type": "code",
   "execution_count": 31,
   "id": "988a5b54",
   "metadata": {},
   "outputs": [
    {
     "name": "stdout",
     "output_type": "stream",
     "text": [
      "\n",
      "The following values represent the Interquartile Range (IQR),\n",
      "based on the number of standard deviations {n} used for determining the bounds: {1.5}\n",
      "\n",
      "\n",
      "Q1: 2.0\n",
      "Median: 4.0\n",
      "Q3: 6.0\n",
      "IQR: 4.0\n",
      "Lower bound: -4.0\n",
      "Upper bound: 12.0\n"
     ]
    }
   ],
   "source": [
    "print_IQR_related_values(data_filtered,\"play_count\",1.5)"
   ]
  },
  {
   "cell_type": "code",
   "execution_count": 32,
   "id": "267d735c",
   "metadata": {},
   "outputs": [
    {
     "name": "stdout",
     "output_type": "stream",
     "text": [
      "\n",
      "The following values represent the Interquartile Range (IQR),\n",
      "based on the number of standard deviations {n} used for determining the bounds: {3}\n",
      "\n",
      "\n",
      "Q1: 2.0\n",
      "Median: 4.0\n",
      "Q3: 6.0\n",
      "IQR: 4.0\n",
      "Lower bound: -10.0\n",
      "Upper bound: 18.0\n"
     ]
    }
   ],
   "source": [
    "print_IQR_related_values(data_filtered,\"play_count\",3)"
   ]
  },
  {
   "cell_type": "code",
   "execution_count": 22,
   "id": "b7b2f4ba",
   "metadata": {},
   "outputs": [
    {
     "data": {
      "image/png": "[encoded data removed]",
      "text/plain": [
       "<Figure size 640x480 with 1 Axes>"
      ]
     },
     "metadata": {},
     "output_type": "display_data"
    }
   ],
   "source": [
    "# Define the bucket boundaries\n",
    "bucket_splits = [  2, 3, 4, 5,6,7,8,9,10, 20, 50, 100, 10000]\n",
    "\n",
    "#show the histogram baset on bucket range\n",
    "plot_play_count_histogram(data_filtered, bucket_splits)"
   ]
  },
  {
   "cell_type": "code",
   "execution_count": 24,
   "id": "c39b4acc",
   "metadata": {},
   "outputs": [
    {
     "data": {
      "image/png": "[encoded data removed]",
      "text/plain": [
       "<Figure size 1200x600 with 2 Axes>"
      ]
     },
     "metadata": {},
     "output_type": "display_data"
    }
   ],
   "source": [
    "plot_play_count(data_filtered, 50, sample_fraction=0.1)"
   ]
  },
  {
   "cell_type": "code",
   "execution_count": 42,
   "id": "87b09dda",
   "metadata": {},
   "outputs": [
    {
     "name": "stdout",
     "output_type": "stream",
     "text": [
      "19617620  -  19515766  =  101854\n"
     ]
    }
   ],
   "source": [
    "# Check if eliminate data by playcount <=18 , how much data will be missed\n",
    "current_size, size18andLess = data_filtered.count(),data_filtered.filter(col(\"play_count\") <= 50).count()\n",
    "print(current_size,' - ', size18andLess,' = ',current_size - size18andLess)"
   ]
  },
  {
   "cell_type": "markdown",
   "id": "36dc8203",
   "metadata": {},
   "source": [
    "## Filter the DataFrame based on IQR upper_bound"
   ]
  },
  {
   "cell_type": "code",
   "execution_count": 25,
   "id": "17b604c1",
   "metadata": {},
   "outputs": [
    {
     "name": "stdout",
     "output_type": "stream",
     "text": [
      "Filter the DataFrame based on IQR :\n",
      "upper_bound number of standard deviations used for determining the bounds =  3\n"
     ]
    }
   ],
   "source": [
    "# Filter the DataFrame based on IQR upper_bound\n",
    "data_filtered = filter_by_iqr(data_filtered, \"play_count\", 3)\n"
   ]
  },
  {
   "cell_type": "code",
   "execution_count": 51,
   "id": "f6dfbb51",
   "metadata": {},
   "outputs": [
    {
     "data": {
      "text/plain": [
       "18814254"
      ]
     },
     "execution_count": 51,
     "metadata": {},
     "output_type": "execute_result"
    }
   ],
   "source": [
    "#Show data count\n",
    "data_filtered.count()"
   ]
  },
  {
   "cell_type": "code",
   "execution_count": 26,
   "id": "6ae5bee1",
   "metadata": {},
   "outputs": [
    {
     "data": {
      "text/plain": [
       "DataFrame[userId: string, songId: string, play_count: int]"
      ]
     },
     "execution_count": 26,
     "metadata": {},
     "output_type": "execute_result"
    }
   ],
   "source": [
    "#Create a checkpoint\n",
    "data_filtered_play_count = data_filtered\n",
    "\n",
    "#persist dataset\n",
    "data_filtered.persist()"
   ]
  },
  {
   "cell_type": "markdown",
   "id": "6dfd7075",
   "metadata": {},
   "source": [
    "##### No SongId should appear in the dataset only once & Each user should have listened to at least 6 songs."
   ]
  },
  {
   "cell_type": "markdown",
   "id": "d52f0096",
   "metadata": {},
   "source": [
    "###### Functions:"
   ]
  },
  {
   "cell_type": "code",
   "execution_count": 32,
   "id": "dde224fe",
   "metadata": {},
   "outputs": [],
   "source": [
    "def calculate_min_row_By_column(df, column):\n",
    "    min_row_count = df.groupBy(column).count().agg({\"count\": \"min\"}).first()[0]\n",
    "    print(f\"Minimum row count for each {column}: {min_row_count}\")\n",
    "    return min_row_count"
   ]
  },
  {
   "cell_type": "code",
   "execution_count": 34,
   "id": "616f695c",
   "metadata": {},
   "outputs": [],
   "source": [
    "def filter_users_by_solo_songs(df):\n",
    "    # No SongId should appear in the dataset only once.\n",
    "    # Group the data by songId and count the number of plays\n",
    "    song_counts = df.groupBy(\"songId\").agg(count(\"*\").alias(\"count\"))\n",
    "\n",
    "    # Filter out songs with a count less than or equal to 1\n",
    "    song_counts_filtered = song_counts.filter(\"count > 1\")\n",
    "\n",
    "    # Join the filtered song counts with the original data on songId, keeping only inner matches, and drop the count column\n",
    "    filtered_df = df.join(song_counts_filtered, \"songId\", \"inner\").drop(\"count\")\n",
    "    \n",
    "    print ('Filter out songs with a count less than or equal to 1') # \\nNew dataframe coount is:',filtered_df.count())\n",
    "    return filtered_df\n"
   ]
  },
  {
   "cell_type": "code",
   "execution_count": 35,
   "id": "f10f5e8c",
   "metadata": {},
   "outputs": [],
   "source": [
    "# filter out users with less than min_song_count: n unique SongIds in order of splitting the data to train and test. \n",
    "#filtering out users with less than n unique SongIds have a minimum level of diversity in the listening history of users.\n",
    "#This can help to split the data into train and test sets more effectively and and be able to evaluate the sys\n",
    "\n",
    "def filter_user_by_song_count(df, min_song_count):\n",
    "    # Group the data by userId and count the number of unique songs each user has listened to\n",
    "    user_song_counts = df.groupBy(\"userId\").agg(count(\"songId\").alias(\"song_count\"))\n",
    "\n",
    "    # Filter out users with less than the specified minimum song count\n",
    "    user_song_counts_filtered = user_song_counts.filter(f\"song_count >= {min_song_count}\")\n",
    "\n",
    "    # Join the filtered user song counts with the filtered data on userId, keeping only inner matches, and drop the song_count column\n",
    "    filtered_data = df.join(user_song_counts_filtered, \"userId\", \"inner\").drop(\"song_count\")\n",
    "    \n",
    "    filtered_data_count = filtered_data.count()\n",
    "    print(f\"Filtered out users with song count less than or equal to {min_song_count}\")\n",
    "    #print(f\"New DataFrame count: {filtered_data_count}\")\n",
    "\n",
    "    return filtered_data\n"
   ]
  },
  {
   "cell_type": "code",
   "execution_count": 62,
   "id": "40407518",
   "metadata": {},
   "outputs": [
    {
     "name": "stdout",
     "output_type": "stream",
     "text": [
      "Minimum row count for each songId: 1\n"
     ]
    }
   ],
   "source": [
    "# Minimum row count for each songId\n",
    "calculate_min_row_By_column(data_filtered, 'songId')"
   ]
  },
  {
   "cell_type": "code",
   "execution_count": 63,
   "id": "6e1a66fb",
   "metadata": {},
   "outputs": [
    {
     "name": "stdout",
     "output_type": "stream",
     "text": [
      "Minimum row count for each userId: 1\n"
     ]
    }
   ],
   "source": [
    "#number of users have played only one song\n",
    "calculate_min_row_By_column(data_filtered, 'userId')"
   ]
  },
  {
   "cell_type": "markdown",
   "id": "cb98aea7",
   "metadata": {},
   "source": [
    "### 6 songs"
   ]
  },
  {
   "cell_type": "code",
   "execution_count": 64,
   "id": "5b9e7e7b",
   "metadata": {},
   "outputs": [
    {
     "name": "stdout",
     "output_type": "stream",
     "text": [
      "Filtered out users with song count less than or equal to 6\n"
     ]
    }
   ],
   "source": [
    "data_filtered = filter_user_by_song_count(data_filtered, 6)\n",
    "\n",
    "data_filtered.persist()"
   ]
  },
  {
   "cell_type": "code",
   "execution_count": 36,
   "id": "8390052e",
   "metadata": {
    "scrolled": true
   },
   "outputs": [
    {
     "name": "stdout",
     "output_type": "stream",
     "text": [
      "\n",
      "cycle 1\n",
      "Filter out songs with a count less than or equal to 1\n",
      "Minimum row count for each userId: 1\n",
      "Filtered out users with song count less than or equal to 6\n",
      "Minimum row count for each songId: 1\n",
      "\n",
      "cycle 2\n",
      "Filter out songs with a count less than or equal to 1\n",
      "Minimum row count for each userId: 5\n",
      "Filtered out users with song count less than or equal to 6\n",
      "Minimum row count for each songId: 1\n",
      "\n",
      "cycle 3\n",
      "Filter out songs with a count less than or equal to 1\n",
      "Minimum row count for each userId: 5\n",
      "Filtered out users with song count less than or equal to 6\n",
      "Minimum row count for each songId: 2\n"
     ]
    }
   ],
   "source": [
    "#initial some variables\n",
    "\n",
    "min_song_group, min_user_playlist, condition, num =1, 1, True, 1\n",
    "\n",
    "while condition:\n",
    "    print('\\ncycle', num)\n",
    "    \n",
    "    # Check the first condition: min_song_group == 1\n",
    "    if min_song_group == 1:\n",
    "\n",
    "        data_filtered = filter_users_by_solo_songs(data_filtered)\n",
    "\n",
    "        data_filtered.persist()\n",
    "\n",
    "        min_user_playlist = calculate_min_row_By_column(data_filtered, 'userId')\n",
    "        \n",
    "        data_filtered.persist()\n",
    "        \n",
    "        condition = min_user_playlist < 6\n",
    "        \n",
    "    if min_user_playlist < 6:\n",
    "\n",
    "        data_filtered = filter_user_by_song_count(data_filtered, 6)\n",
    "\n",
    "        data_filtered.persist()\n",
    "\n",
    "        # Minimum row count for each songId\n",
    "        min_song_group = calculate_min_row_By_column(data_filtered, 'songId')\n",
    "        \n",
    "        data_filtered.persist()\n",
    "        \n",
    "        condition = min_song_group == 1\n",
    "    \n",
    "    num+=1"
   ]
  },
  {
   "cell_type": "markdown",
   "id": "8cdb3c6e",
   "metadata": {},
   "source": []
  },
  {
   "cell_type": "markdown",
   "id": "35c2b90f",
   "metadata": {},
   "source": [
    "### review data"
   ]
  },
  {
   "cell_type": "code",
   "execution_count": 38,
   "id": "1c576226",
   "metadata": {},
   "outputs": [
    {
     "name": "stdout",
     "output_type": "stream",
     "text": [
      "+-------+--------------------+------------------+------------------+\n",
      "|summary|              userId|            songId|        play_count|\n",
      "+-------+--------------------+------------------+------------------+\n",
      "|  count|            18017624|          18017624|          18017624|\n",
      "|   mean|                null|              null| 4.389397736349698|\n",
      "| stddev|                null|              null|3.2446516858100547|\n",
      "|    min|00001638d61892368...|SOAAADD12AB018A9DD|                 2|\n",
      "|    max|fffff9534445f481b...|SOZZZWN12AF72A1E29|                18|\n",
      "+-------+--------------------+------------------+------------------+\n",
      "\n"
     ]
    }
   ],
   "source": [
    "data_filtered.describe().show()"
   ]
  },
  {
   "cell_type": "code",
   "execution_count": 39,
   "id": "b91f71b7",
   "metadata": {},
   "outputs": [
    {
     "data": {
      "image/png": "[encoded data removed]",
      "text/plain": [
       "<Figure size 640x480 with 1 Axes>"
      ]
     },
     "metadata": {},
     "output_type": "display_data"
    }
   ],
   "source": [
    "bucket_splits = [  2, 3, 4, 5,6,7,8,9,10, 15, 18]\n",
    "plot_play_count_histogram(data_filtered, bucket_splits)"
   ]
  },
  {
   "cell_type": "code",
   "execution_count": 40,
   "id": "39935122",
   "metadata": {},
   "outputs": [
    {
     "data": {
      "image/png": "[encoded data removed]",
      "text/plain": [
       "<Figure size 1200x600 with 2 Axes>"
      ]
     },
     "metadata": {},
     "output_type": "display_data"
    }
   ],
   "source": [
    "plot_play_count(data_filtered, 2, sample_fraction=0.1)"
   ]
  },
  {
   "cell_type": "code",
   "execution_count": 37,
   "id": "f320d476",
   "metadata": {},
   "outputs": [],
   "source": [
    "# Specify the output path for the CSV files\n",
    "output_path = 'filtered_data.csv'\n",
    "\n",
    "# Coalesce the DataFrame to a single partition to minimize the number of output files\n",
    "coalesced_df = data_filtered.coalesce(1)\n",
    "\n",
    "# Write the coalesced DataFrame to a CSV file\n",
    "coalesced_df.write.csv(output_path, header=True, mode='overwrite')\n"
   ]
  },
  {
   "cell_type": "markdown",
   "id": "7745c0f7",
   "metadata": {},
   "source": [
    "### Creat check point and persist"
   ]
  },
  {
   "cell_type": "code",
   "execution_count": 41,
   "id": "7ea6ae37",
   "metadata": {},
   "outputs": [
    {
     "data": {
      "text/plain": [
       "DataFrame[userId: string, songId: string, play_count: int]"
      ]
     },
     "execution_count": 41,
     "metadata": {},
     "output_type": "execute_result"
    }
   ],
   "source": [
    "cleaned_data = data_filtered\n",
    "\n",
    "cleaned_data.persist()"
   ]
  },
  {
   "cell_type": "markdown",
   "id": "44ef599d",
   "metadata": {},
   "source": [
    "## Part 2"
   ]
  },
  {
   "cell_type": "markdown",
   "id": "334088df",
   "metadata": {},
   "source": [
    "### Creating user Index and song Index on cleaned data: "
   ]
  },
  {
   "cell_type": "code",
   "execution_count": 42,
   "id": "4bed7d0b",
   "metadata": {},
   "outputs": [],
   "source": [
    "#### Creating user Index and song Index : \n",
    "\n",
    "#from pyspark.sql import Window\n",
    "#from pyspark.sql.functions import dense_rank\n",
    "\n",
    "# Define a window specification\n",
    "window_spec = Window.orderBy(\"userId\")\n",
    "\n",
    "# Add a userIdIndex column with unique index values\n",
    "cleaned_data = cleaned_data.withColumn(\"userIdIndex\", dense_rank().over(window_spec))\n",
    "\n",
    "# Define a window specification\n",
    "window_spec = Window.orderBy(\"songId\")\n",
    "\n",
    "# Add a songIdIndex column with unique index values\n",
    "data_with_indices = cleaned_data.withColumn(\"songIdIndex\", dense_rank().over(window_spec))\n"
   ]
  },
  {
   "cell_type": "code",
   "execution_count": 43,
   "id": "568d2fa3",
   "metadata": {},
   "outputs": [
    {
     "data": {
      "text/plain": [
       "[Row(userId='8cf21d682f872dbe91296690359af2010e5195ca', songId='SOAAADD12AB018A9DD', play_count=3, userIdIndex=409178, songIdIndex=1),\n",
       " Row(userId='6e4d60a9f2d014958a3de6cf8007ca49050581cb', songId='SOAAADD12AB018A9DD', play_count=8, userIdIndex=320261, songIdIndex=1),\n",
       " Row(userId='736f40dcc9e45e2f03ffc0edb90ebb1954d8f9d6', songId='SOAAADE12A6D4F80CC', play_count=2, userIdIndex=335188, songIdIndex=2),\n",
       " Row(userId='f4058a3849ba9ef1a23884a5274ec92cb9d52649', songId='SOAAADE12A6D4F80CC', play_count=3, userIdIndex=709139, songIdIndex=2),\n",
       " Row(userId='5c526a981bc28ef4eb44d7bece91015b5cca085b', songId='SOAAADZ12A8C1334FB', play_count=2, userIdIndex=267969, songIdIndex=3)]"
      ]
     },
     "execution_count": 43,
     "metadata": {},
     "output_type": "execute_result"
    }
   ],
   "source": [
    "# Show the updated DataFrame\n",
    "data_with_indices.head(5)"
   ]
  },
  {
   "cell_type": "code",
   "execution_count": 44,
   "id": "a15df595",
   "metadata": {},
   "outputs": [
    {
     "data": {
      "text/plain": [
       "['userId', 'songId', 'play_count', 'userIdIndex', 'songIdIndex']"
      ]
     },
     "execution_count": 44,
     "metadata": {},
     "output_type": "execute_result"
    }
   ],
   "source": [
    "# Show the updated DataFrame column\n",
    "data_with_indices.columns"
   ]
  },
  {
   "cell_type": "markdown",
   "id": "afb54b9c",
   "metadata": {},
   "source": [
    "#### persisting persist:\n"
   ]
  },
  {
   "cell_type": "code",
   "execution_count": 45,
   "id": "f2d99041",
   "metadata": {},
   "outputs": [
    {
     "data": {
      "text/plain": [
       "DataFrame[userId: string, songId: string, play_count: int, userIdIndex: int, songIdIndex: int]"
      ]
     },
     "execution_count": 45,
     "metadata": {},
     "output_type": "execute_result"
    }
   ],
   "source": [
    "data_with_indices.persist()"
   ]
  },
  {
   "cell_type": "markdown",
   "id": "6eb73422",
   "metadata": {},
   "source": [
    "# Train and Test"
   ]
  },
  {
   "cell_type": "code",
   "execution_count": 46,
   "id": "140ee29f",
   "metadata": {},
   "outputs": [],
   "source": [
    "from pyspark.sql.functions import row_number\n",
    "from pyspark.sql.window import Window\n",
    "\n",
    "# Calculate the count of songs for each user\n",
    "user_counts = data_with_indices.groupBy(\"userIdIndex\").count()\n",
    "\n",
    "# Create a window specification to partition by userId and order randomly\n",
    "window_spec = Window.partitionBy(\"userIdIndex\").orderBy(rand())\n",
    "\n",
    "# Assign row numbers to each song for every user\n",
    "user_counts_with_random = data_with_indices.withColumn(\"row_number\", row_number().over(window_spec))\n",
    "\n",
    "# Join the row numbers back to the user_counts DataFrame\n",
    "user_counts_with_random = user_counts.join(user_counts_with_random, on=[\"userIdIndex\"], how=\"inner\")\n",
    "\n",
    "# Select songs with row_number <= count * 0.8 for the train set\n",
    "train_data = user_counts_with_random.filter(\"row_number <= count * 0.8\")\n",
    "\n",
    "# Drop unnecessary columns from the train set\n",
    "train_data = train_data.drop(\"count\", \"row_number\")\n",
    "\n",
    "# Select the test set\n",
    "test_data = user_counts_with_random.join(train_data, on=[\"userIdIndex\", \"songIdIndex\"], how=\"left_anti\")\n",
    "\n",
    "# Drop unnecessary columns from the train set\n",
    "test_data = test_data.drop(\"count\", \"row_number\")\n"
   ]
  },
  {
   "cell_type": "code",
   "execution_count": 47,
   "id": "6ea82eb5",
   "metadata": {},
   "outputs": [
    {
     "data": {
      "text/plain": [
       "(['userIdIndex', 'userId', 'songId', 'play_count', 'songIdIndex'],\n",
       " ['userIdIndex', 'songIdIndex', 'userId', 'songId', 'play_count'])"
      ]
     },
     "execution_count": 47,
     "metadata": {},
     "output_type": "execute_result"
    }
   ],
   "source": [
    "# show train and test colummns name\n",
    "train_data.columns,test_data.columns"
   ]
  },
  {
   "cell_type": "code",
   "execution_count": 48,
   "id": "bf195831",
   "metadata": {},
   "outputs": [
    {
     "name": "stdout",
     "output_type": "stream",
     "text": [
      "Train set count:  14095482\n",
      "Test set count:  3922142\n",
      "Train distinct users' count:  744025\n",
      "Test distinct users' count:  744025\n"
     ]
    }
   ],
   "source": [
    "# Calculate count of train and test datasets\n",
    "print('Train set count: ',train_data.count())\n",
    "print('Test set count: ', test_data.count())\n",
    "\n",
    "# Calculate distinct userId values in train and test datasets\n",
    "print('Train distinct users\\' count: ', train_data.select(\"userIdIndex\").distinct().count())\n",
    "print('Test distinct users\\' count: ',test_data.select(\"userIdIndex\").distinct().count())\n"
   ]
  },
  {
   "cell_type": "markdown",
   "id": "f9f7dae8",
   "metadata": {},
   "source": [
    "# Store train and test data set as csv file"
   ]
  },
  {
   "cell_type": "code",
   "execution_count": 60,
   "id": "189d9926",
   "metadata": {},
   "outputs": [],
   "source": [
    "# Specify the output path for the CSV files\n",
    "output_path = 'train_data.csv'\n",
    "\n",
    "# Coalesce the DataFrame to a single partition to minimize the number of output files\n",
    "coalesced_df = train_data.coalesce(1)\n",
    "\n",
    "# Write the coalesced DataFrame to a CSV file\n",
    "coalesced_df.write.csv(output_path, header=True, mode='overwrite')\n"
   ]
  },
  {
   "cell_type": "code",
   "execution_count": 59,
   "id": "265e90a2",
   "metadata": {},
   "outputs": [],
   "source": [
    "# Specify the output path for the CSV files\n",
    "output_path = 'test_data.csv'\n",
    "\n",
    "# Coalesce the DataFrame to a single partition to minimize the number of output files\n",
    "coalesced_df = test_data.coalesce(1)\n",
    "\n",
    "# Write the coalesced DataFrame to a CSV file\n",
    "coalesced_df.write.csv(output_path, header=True, mode='overwrite')\n"
   ]
  },
  {
   "cell_type": "code",
   "execution_count": null,
   "id": "91236f31",
   "metadata": {},
   "outputs": [],
   "source": []
  }
 ],
 "metadata": {
  "kernelspec": {
   "display_name": "Python 3 (ipykernel)",
   "language": "python",
   "name": "python3"
  },
  "language_info": {
   "codemirror_mode": {
    "name": "ipython",
    "version": 3
   },
   "file_extension": ".py",
   "mimetype": "text/x-python",
   "name": "python",
   "nbconvert_exporter": "python",
   "pygments_lexer": "ipython3",
   "version": "3.9.16"
  }
 },
 "nbformat": 4,
 "nbformat_minor": 5
}
